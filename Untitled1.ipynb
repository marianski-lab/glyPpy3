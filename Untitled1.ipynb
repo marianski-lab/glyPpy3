{
 "cells": [
  {
   "cell_type": "code",
   "execution_count": 1,
   "id": "3737f7b5-fb73-4e24-8542-b2dcbc38d728",
   "metadata": {},
   "outputs": [],
   "source": [
    "import glyP"
   ]
  },
  {
   "cell_type": "code",
   "execution_count": 2,
   "id": "03d00600-859a-4377-9feb-7b914be66d1e",
   "metadata": {},
   "outputs": [
    {
     "name": "stdout",
     "output_type": "stream",
     "text": [
      "tst        directory already exists, load existing data\n",
      "Loading tst                           \n"
     ]
    }
   ],
   "source": [
    "a131 = glyP.Space('tst')"
   ]
  },
  {
   "cell_type": "code",
   "execution_count": 3,
   "id": "bd70efed-af89-405e-b1a4-51089f6904e7",
   "metadata": {},
   "outputs": [
    {
     "name": "stdout",
     "output_type": "stream",
     "text": [
      "Loading tri                           \n"
     ]
    }
   ],
   "source": [
    "a131.load_dir('tri')"
   ]
  },
  {
   "cell_type": "code",
   "execution_count": 4,
   "id": "44ec9e40-1b66-44b3-9a64-be7d6188aee3",
   "metadata": {},
   "outputs": [
    {
     "name": "stdout",
     "output_type": "stream",
     "text": [
      "assigning atoms\n",
      "assigning rings\n",
      "assigning dihs\n"
     ]
    }
   ],
   "source": [
    "a131.assign_atoms()\n",
    "a131.assign_ring_puckers()\n",
    "a131.assign_glycosidic_angles()"
   ]
  },
  {
   "cell_type": "code",
   "execution_count": 5,
   "id": "2c242cb6-df8a-42e4-92b2-e62b1dc28c36",
   "metadata": {},
   "outputs": [
    {
     "data": {
      "application/3dmoljs_load.v0": "<div id=\"3dmolviewer_16363864360747554\"  style=\"position: relative; width: 600px; height: 600px\">\n        <p id=\"3dmolwarning_16363864360747554\" style=\"background-color:#ffcccc;color:black\">You appear to be running in JupyterLab (or JavaScript failed to load for some other reason).  You need to install the 3dmol extension: <br>\n        <tt>jupyter labextension install jupyterlab_3dmol</tt></p>\n        </div>\n<script>\n\nvar loadScriptAsync = function(uri){\n  return new Promise((resolve, reject) => {\n    var tag = document.createElement('script');\n    tag.src = uri;\n    tag.async = true;\n    tag.onload = () => {\n      resolve();\n    };\n  var firstScriptTag = document.getElementsByTagName('script')[0];\n  firstScriptTag.parentNode.insertBefore(tag, firstScriptTag);\n});\n};\n\nif(typeof $3Dmolpromise === 'undefined') {\n$3Dmolpromise = null;\n  $3Dmolpromise = loadScriptAsync('https://3dmol.org/build/3Dmol.js');\n}\n\nvar viewer_16363864360747554 = null;\nvar warn = document.getElementById(\"3dmolwarning_16363864360747554\");\nif(warn) {\n    warn.parentNode.removeChild(warn);\n}\n$3Dmolpromise.then(function() {\nviewer_16363864360747554 = $3Dmol.createViewer($(\"#3dmolviewer_16363864360747554\"),{backgroundColor:\"white\"});\nviewer_16363864360747554.zoomTo();\n\tviewer_16363864360747554.addModel(\" 84\\nTri_A154_0000\\nO      -1.545     2.148    -0.546\\nC      -2.328     1.572     0.475\\nC      -1.706     1.827     1.839\\nC      -1.478     3.310     2.061\\nC      -0.671     3.903     0.911\\nC      -1.334     3.544    -0.412\\nC      -0.592     3.968    -1.678\\nO       0.445     3.080    -2.025\\nO       0.673     3.441     0.991\\nO      -0.738     3.544     3.239\\nO      -2.524     1.363     2.876\\nO      -2.290     0.204     0.257\\nC      -3.475    -0.508    -0.075\\nC      -3.544    -1.708     0.847\\nO      -3.643    -1.255     2.183\\nC      -2.287    -2.543     0.670\\nC      -1.951    -2.824    -0.805\\nO      -2.089    -1.673    -1.629\\nC      -3.343    -1.020    -1.503\\nC      -3.376     0.085    -2.541\\nO      -4.571     0.806    -2.327\\nO      -0.653    -3.302    -0.981\\nC       0.401    -2.515    -0.458\\nC       1.189    -3.331     0.553\\nC       2.349    -2.506     1.077\\nC       3.202    -1.967    -0.060\\nO       2.402    -1.301    -1.015\\nC       1.336    -2.055    -1.581\\nC       0.664    -1.131    -2.579\\nO       0.166     0.046    -1.952\\nO       4.049    -1.018     0.489\\nC       5.158    -0.648    -0.336\\nC       5.839     0.560     0.279\\nC       4.942     1.744     0.647\\nC       4.299     2.537    -0.495\\nC       3.173     1.868    -1.268\\nN       2.066     1.432    -0.376\\nO       3.086    -3.331     1.943\\nO       0.346    -3.697     1.626\\nO      -2.454    -3.743     1.376\\nH      -3.361     1.954     0.434\\nH      -0.729     1.318     1.834\\nH      -2.455     3.812     2.111\\nH      -0.676     4.998     1.002\\nH      -2.305     4.067    -0.405\\nH      -0.144     4.954    -1.533\\nH      -1.318     4.046    -2.497\\nH       0.048     2.224    -2.231\\nH       0.903     3.508     1.929\\nH      -1.151     3.049     3.954\\nH      -2.782     0.441     2.706\\nH      -4.361     0.123     0.033\\nH      -4.428    -2.305     0.584\\nH      -3.591    -2.029     2.755\\nH      -1.482    -1.953     1.117\\nH      -2.602    -3.625    -1.175\\nH      -4.164    -1.722    -1.710\\nH      -2.498     0.732    -2.414\\nH      -3.337    -0.370    -3.537\\nH      -4.775     1.326    -3.106\\nH       0.017    -1.615     0.034\\nH       1.576    -4.232     0.055\\nH       1.934    -1.639     1.616\\nH       3.768    -2.783    -0.540\\nH       1.723    -2.933    -2.119\\nH       1.405    -0.810    -3.315\\nH      -0.141    -1.662    -3.090\\nH      -0.688    -0.171    -1.544\\nH       4.802    -0.445    -1.350\\nH       5.859    -1.490    -0.392\\nH       6.623     0.886    -0.415\\nH       6.353     0.234     1.189\\nH       5.559     2.448     1.212\\nH       4.182     1.407     1.362\\nH       5.068     2.816    -1.225\\nH       3.917     3.481    -0.089\\nH       2.731     2.563    -1.983\\nH       3.501     0.980    -1.806\\nH       1.576     2.234     0.065\\nH       2.432     0.795     0.333\\nH       1.357     0.896    -0.913\\nH       3.760    -2.802     2.378\\nH       0.897    -4.118     2.295\\nH      -1.564    -4.077     1.557\\n\",\"xyz\");\n\tviewer_16363864360747554.setStyle({\"stick\": {}});\n\tviewer_16363864360747554.zoomTo();\nviewer_16363864360747554.render();\n});\n</script>",
      "text/html": [
       "<div id=\"3dmolviewer_16363864360747554\"  style=\"position: relative; width: 600px; height: 600px\">\n",
       "        <p id=\"3dmolwarning_16363864360747554\" style=\"background-color:#ffcccc;color:black\">You appear to be running in JupyterLab (or JavaScript failed to load for some other reason).  You need to install the 3dmol extension: <br>\n",
       "        <tt>jupyter labextension install jupyterlab_3dmol</tt></p>\n",
       "        </div>\n",
       "<script>\n",
       "\n",
       "var loadScriptAsync = function(uri){\n",
       "  return new Promise((resolve, reject) => {\n",
       "    var tag = document.createElement('script');\n",
       "    tag.src = uri;\n",
       "    tag.async = true;\n",
       "    tag.onload = () => {\n",
       "      resolve();\n",
       "    };\n",
       "  var firstScriptTag = document.getElementsByTagName('script')[0];\n",
       "  firstScriptTag.parentNode.insertBefore(tag, firstScriptTag);\n",
       "});\n",
       "};\n",
       "\n",
       "if(typeof $3Dmolpromise === 'undefined') {\n",
       "$3Dmolpromise = null;\n",
       "  $3Dmolpromise = loadScriptAsync('https://3dmol.org/build/3Dmol.js');\n",
       "}\n",
       "\n",
       "var viewer_16363864360747554 = null;\n",
       "var warn = document.getElementById(\"3dmolwarning_16363864360747554\");\n",
       "if(warn) {\n",
       "    warn.parentNode.removeChild(warn);\n",
       "}\n",
       "$3Dmolpromise.then(function() {\n",
       "viewer_16363864360747554 = $3Dmol.createViewer($(\"#3dmolviewer_16363864360747554\"),{backgroundColor:\"white\"});\n",
       "viewer_16363864360747554.zoomTo();\n",
       "\tviewer_16363864360747554.addModel(\" 84\\nTri_A154_0000\\nO      -1.545     2.148    -0.546\\nC      -2.328     1.572     0.475\\nC      -1.706     1.827     1.839\\nC      -1.478     3.310     2.061\\nC      -0.671     3.903     0.911\\nC      -1.334     3.544    -0.412\\nC      -0.592     3.968    -1.678\\nO       0.445     3.080    -2.025\\nO       0.673     3.441     0.991\\nO      -0.738     3.544     3.239\\nO      -2.524     1.363     2.876\\nO      -2.290     0.204     0.257\\nC      -3.475    -0.508    -0.075\\nC      -3.544    -1.708     0.847\\nO      -3.643    -1.255     2.183\\nC      -2.287    -2.543     0.670\\nC      -1.951    -2.824    -0.805\\nO      -2.089    -1.673    -1.629\\nC      -3.343    -1.020    -1.503\\nC      -3.376     0.085    -2.541\\nO      -4.571     0.806    -2.327\\nO      -0.653    -3.302    -0.981\\nC       0.401    -2.515    -0.458\\nC       1.189    -3.331     0.553\\nC       2.349    -2.506     1.077\\nC       3.202    -1.967    -0.060\\nO       2.402    -1.301    -1.015\\nC       1.336    -2.055    -1.581\\nC       0.664    -1.131    -2.579\\nO       0.166     0.046    -1.952\\nO       4.049    -1.018     0.489\\nC       5.158    -0.648    -0.336\\nC       5.839     0.560     0.279\\nC       4.942     1.744     0.647\\nC       4.299     2.537    -0.495\\nC       3.173     1.868    -1.268\\nN       2.066     1.432    -0.376\\nO       3.086    -3.331     1.943\\nO       0.346    -3.697     1.626\\nO      -2.454    -3.743     1.376\\nH      -3.361     1.954     0.434\\nH      -0.729     1.318     1.834\\nH      -2.455     3.812     2.111\\nH      -0.676     4.998     1.002\\nH      -2.305     4.067    -0.405\\nH      -0.144     4.954    -1.533\\nH      -1.318     4.046    -2.497\\nH       0.048     2.224    -2.231\\nH       0.903     3.508     1.929\\nH      -1.151     3.049     3.954\\nH      -2.782     0.441     2.706\\nH      -4.361     0.123     0.033\\nH      -4.428    -2.305     0.584\\nH      -3.591    -2.029     2.755\\nH      -1.482    -1.953     1.117\\nH      -2.602    -3.625    -1.175\\nH      -4.164    -1.722    -1.710\\nH      -2.498     0.732    -2.414\\nH      -3.337    -0.370    -3.537\\nH      -4.775     1.326    -3.106\\nH       0.017    -1.615     0.034\\nH       1.576    -4.232     0.055\\nH       1.934    -1.639     1.616\\nH       3.768    -2.783    -0.540\\nH       1.723    -2.933    -2.119\\nH       1.405    -0.810    -3.315\\nH      -0.141    -1.662    -3.090\\nH      -0.688    -0.171    -1.544\\nH       4.802    -0.445    -1.350\\nH       5.859    -1.490    -0.392\\nH       6.623     0.886    -0.415\\nH       6.353     0.234     1.189\\nH       5.559     2.448     1.212\\nH       4.182     1.407     1.362\\nH       5.068     2.816    -1.225\\nH       3.917     3.481    -0.089\\nH       2.731     2.563    -1.983\\nH       3.501     0.980    -1.806\\nH       1.576     2.234     0.065\\nH       2.432     0.795     0.333\\nH       1.357     0.896    -0.913\\nH       3.760    -2.802     2.378\\nH       0.897    -4.118     2.295\\nH      -1.564    -4.077     1.557\\n\",\"xyz\");\n",
       "\tviewer_16363864360747554.setStyle({\"stick\": {}});\n",
       "\tviewer_16363864360747554.zoomTo();\n",
       "viewer_16363864360747554.render();\n",
       "});\n",
       "</script>"
      ]
     },
     "metadata": {},
     "output_type": "display_data"
    }
   ],
   "source": [
    "a131[0].show_xyz()"
   ]
  },
  {
   "cell_type": "code",
   "execution_count": 7,
   "id": "c69006d1-b35d-48a0-ad6c-48fe88069d78",
   "metadata": {},
   "outputs": [
    {
     "name": "stdout",
     "output_type": "stream",
     "text": [
      "ring atoms: {'C5': 5, 'C6': 6, 'O6': 7, 'O': 0, 'C1': 1, 'C4': 4, 'C2': 2, 'C3': 3}\n",
      "rotation: -144.74000000000004 105.8\n",
      "rotation: -144.74000000000004 -144.74\n",
      "rotation: -144.74 -144.74\n",
      "-35.25999999999996 74.2 109.45999999999997\n",
      "[4, 2, 0, 11]\n",
      "rotation: -145.0211225626582 -35.56112256265824\n",
      "[11, 40, 12, 13, 18, 51, 14, 15, 52, 17, 19, 56, 53, 16, 39, 54, 20, 57, 58, 21, 55, 83, 59, 22, 23, 27, 60, 24, 38, 61, 26, 28, 64, 25, 37, 62, 82, 29, 65, 66, 30, 63, 81, 67, 31, 32, 68, 69, 33, 70, 71, 34, 72, 73, 35, 74, 75, 36, 76, 77, 78, 79, 80]\n",
      "-35.25999999999996 -35.26 -3.552713678800501e-14\n",
      "[0, 4, 2, 9]\n",
      "rotation: -146.31396392783208 -146.3139639278321\n",
      "-35.25999999999999 -35.26 -7.105427357601002e-15\n",
      "[2, 0, 4, 6]\n",
      "rotation: 107.24319096836044 107.24319096836044\n"
     ]
    }
   ],
   "source": [
    "glyP.utilities.set_ring_pucker(a131[0], 2, '2,5B')"
   ]
  },
  {
   "cell_type": "code",
   "execution_count": 8,
   "id": "60638f80-f18e-490d-8b5f-df7553e7fb34",
   "metadata": {},
   "outputs": [
    {
     "data": {
      "application/3dmoljs_load.v0": "<div id=\"3dmolviewer_1636386756089875\"  style=\"position: relative; width: 600px; height: 600px\">\n        <p id=\"3dmolwarning_1636386756089875\" style=\"background-color:#ffcccc;color:black\">You appear to be running in JupyterLab (or JavaScript failed to load for some other reason).  You need to install the 3dmol extension: <br>\n        <tt>jupyter labextension install jupyterlab_3dmol</tt></p>\n        </div>\n<script>\n\nvar loadScriptAsync = function(uri){\n  return new Promise((resolve, reject) => {\n    var tag = document.createElement('script');\n    tag.src = uri;\n    tag.async = true;\n    tag.onload = () => {\n      resolve();\n    };\n  var firstScriptTag = document.getElementsByTagName('script')[0];\n  firstScriptTag.parentNode.insertBefore(tag, firstScriptTag);\n});\n};\n\nif(typeof $3Dmolpromise === 'undefined') {\n$3Dmolpromise = null;\n  $3Dmolpromise = loadScriptAsync('https://3dmol.org/build/3Dmol.js');\n}\n\nvar viewer_1636386756089875 = null;\nvar warn = document.getElementById(\"3dmolwarning_1636386756089875\");\nif(warn) {\n    warn.parentNode.removeChild(warn);\n}\n$3Dmolpromise.then(function() {\nviewer_1636386756089875 = $3Dmol.createViewer($(\"#3dmolviewer_1636386756089875\"),{backgroundColor:\"white\"});\nviewer_1636386756089875.zoomTo();\n\tviewer_1636386756089875.addModel(\" 84\\nTri_A154_0000\\nO      -2.326     2.540    -0.550\\nC      -2.328     1.572     0.475\\nC      -1.229     1.940     1.459\\nC      -1.478     3.310     2.061\\nC      -1.542     4.293     0.897\\nC      -1.334     3.544    -0.412\\nC      -0.017     2.783    -0.554\\nO      -0.034     1.537     0.103\\nO      -0.578     5.322     1.096\\nO      -0.187     2.740     2.062\\nO      -1.148     1.022     2.512\\nO      -2.714     0.464     1.211\\nC      -3.819     0.538     2.104\\nC      -3.360    -0.039     3.427\\nO      -2.308     0.758     3.936\\nC      -2.878    -1.463     3.207\\nC      -3.862    -2.314     2.385\\nO      -4.380    -1.620     1.257\\nC      -4.932    -0.350     1.564\\nC      -5.559     0.184     0.291\\nO      -5.996     1.497     0.574\\nO      -3.291    -3.496     1.914\\nC      -2.106    -3.380     1.150\\nC      -0.988    -4.154     1.827\\nC       0.270    -4.073     0.982\\nC       0.006    -4.519    -0.446\\nO      -1.102    -3.831    -0.990\\nC      -2.322    -3.929    -0.264\\nC      -3.340    -3.139    -1.064\\nO      -2.952    -1.777    -1.209\\nO       1.114    -4.150    -1.192\\nC       1.218    -4.782    -2.472\\nC       2.321    -4.102    -3.260\\nC       2.267    -2.575    -3.346\\nC       1.133    -1.943    -4.158\\nC      -0.269    -2.003    -3.571\\nN      -0.331    -1.403    -2.212\\nO       1.243    -4.867     1.611\\nO      -0.737    -3.604     3.104\\nO      -2.645    -2.047     4.460\\nH      -2.922     2.459     0.747\\nH      -0.292     1.976     0.880\\nH      -1.674     3.828     3.011\\nH      -2.542     4.746     0.869\\nH      -1.363     4.308    -1.207\\nH       0.798     3.369    -0.124\\nH       0.193     2.649    -1.623\\nH      -0.701     0.984    -0.323\\nH      -0.655     5.557     2.032\\nH      -0.192     1.992     2.668\\nH      -1.100     0.117     2.159\\nH      -4.165     1.569     2.223\\nH      -4.207    -0.037     4.126\\nH      -1.971     0.320     4.725\\nH      -1.937    -1.368     2.656\\nH      -4.686    -2.635     3.034\\nH      -5.716    -0.446     2.330\\nH      -4.812     0.181    -0.513\\nH      -6.386    -0.477     0.005\\nH      -6.630     1.773    -0.090\\nH      -1.801    -2.332     1.048\\nH      -1.296    -5.206     1.924\\nH       0.586    -3.018     0.944\\nH      -0.164    -5.608    -0.487\\nH      -2.657    -4.975    -0.203\\nH      -3.401    -3.561    -2.070\\nH      -4.319    -3.209    -0.587\\nH      -3.195    -1.309    -0.394\\nH       0.253    -4.722    -2.983\\nH       1.454    -5.843    -2.329\\nH       2.321    -4.533    -4.269\\nH       3.281    -4.378    -2.811\\nH       3.205    -2.248    -3.805\\nH       2.297    -2.160    -2.330\\nH       1.087    -2.411    -5.148\\nH       1.380    -0.890    -4.337\\nH      -0.968    -1.435    -4.185\\nH      -0.641    -3.022    -3.473\\nH      -0.148    -0.381    -2.224\\nH       0.327    -1.883    -1.598\\nH      -1.273    -1.541    -1.797\\nH       2.084    -4.744     1.162\\nH       0.042    -4.046     3.460\\nH      -2.022    -2.772     4.310\\n\",\"xyz\");\n\tviewer_1636386756089875.setStyle({\"stick\": {}});\n\tviewer_1636386756089875.zoomTo();\nviewer_1636386756089875.render();\n});\n</script>",
      "text/html": [
       "<div id=\"3dmolviewer_1636386756089875\"  style=\"position: relative; width: 600px; height: 600px\">\n",
       "        <p id=\"3dmolwarning_1636386756089875\" style=\"background-color:#ffcccc;color:black\">You appear to be running in JupyterLab (or JavaScript failed to load for some other reason).  You need to install the 3dmol extension: <br>\n",
       "        <tt>jupyter labextension install jupyterlab_3dmol</tt></p>\n",
       "        </div>\n",
       "<script>\n",
       "\n",
       "var loadScriptAsync = function(uri){\n",
       "  return new Promise((resolve, reject) => {\n",
       "    var tag = document.createElement('script');\n",
       "    tag.src = uri;\n",
       "    tag.async = true;\n",
       "    tag.onload = () => {\n",
       "      resolve();\n",
       "    };\n",
       "  var firstScriptTag = document.getElementsByTagName('script')[0];\n",
       "  firstScriptTag.parentNode.insertBefore(tag, firstScriptTag);\n",
       "});\n",
       "};\n",
       "\n",
       "if(typeof $3Dmolpromise === 'undefined') {\n",
       "$3Dmolpromise = null;\n",
       "  $3Dmolpromise = loadScriptAsync('https://3dmol.org/build/3Dmol.js');\n",
       "}\n",
       "\n",
       "var viewer_1636386756089875 = null;\n",
       "var warn = document.getElementById(\"3dmolwarning_1636386756089875\");\n",
       "if(warn) {\n",
       "    warn.parentNode.removeChild(warn);\n",
       "}\n",
       "$3Dmolpromise.then(function() {\n",
       "viewer_1636386756089875 = $3Dmol.createViewer($(\"#3dmolviewer_1636386756089875\"),{backgroundColor:\"white\"});\n",
       "viewer_1636386756089875.zoomTo();\n",
       "\tviewer_1636386756089875.addModel(\" 84\\nTri_A154_0000\\nO      -2.326     2.540    -0.550\\nC      -2.328     1.572     0.475\\nC      -1.229     1.940     1.459\\nC      -1.478     3.310     2.061\\nC      -1.542     4.293     0.897\\nC      -1.334     3.544    -0.412\\nC      -0.017     2.783    -0.554\\nO      -0.034     1.537     0.103\\nO      -0.578     5.322     1.096\\nO      -0.187     2.740     2.062\\nO      -1.148     1.022     2.512\\nO      -2.714     0.464     1.211\\nC      -3.819     0.538     2.104\\nC      -3.360    -0.039     3.427\\nO      -2.308     0.758     3.936\\nC      -2.878    -1.463     3.207\\nC      -3.862    -2.314     2.385\\nO      -4.380    -1.620     1.257\\nC      -4.932    -0.350     1.564\\nC      -5.559     0.184     0.291\\nO      -5.996     1.497     0.574\\nO      -3.291    -3.496     1.914\\nC      -2.106    -3.380     1.150\\nC      -0.988    -4.154     1.827\\nC       0.270    -4.073     0.982\\nC       0.006    -4.519    -0.446\\nO      -1.102    -3.831    -0.990\\nC      -2.322    -3.929    -0.264\\nC      -3.340    -3.139    -1.064\\nO      -2.952    -1.777    -1.209\\nO       1.114    -4.150    -1.192\\nC       1.218    -4.782    -2.472\\nC       2.321    -4.102    -3.260\\nC       2.267    -2.575    -3.346\\nC       1.133    -1.943    -4.158\\nC      -0.269    -2.003    -3.571\\nN      -0.331    -1.403    -2.212\\nO       1.243    -4.867     1.611\\nO      -0.737    -3.604     3.104\\nO      -2.645    -2.047     4.460\\nH      -2.922     2.459     0.747\\nH      -0.292     1.976     0.880\\nH      -1.674     3.828     3.011\\nH      -2.542     4.746     0.869\\nH      -1.363     4.308    -1.207\\nH       0.798     3.369    -0.124\\nH       0.193     2.649    -1.623\\nH      -0.701     0.984    -0.323\\nH      -0.655     5.557     2.032\\nH      -0.192     1.992     2.668\\nH      -1.100     0.117     2.159\\nH      -4.165     1.569     2.223\\nH      -4.207    -0.037     4.126\\nH      -1.971     0.320     4.725\\nH      -1.937    -1.368     2.656\\nH      -4.686    -2.635     3.034\\nH      -5.716    -0.446     2.330\\nH      -4.812     0.181    -0.513\\nH      -6.386    -0.477     0.005\\nH      -6.630     1.773    -0.090\\nH      -1.801    -2.332     1.048\\nH      -1.296    -5.206     1.924\\nH       0.586    -3.018     0.944\\nH      -0.164    -5.608    -0.487\\nH      -2.657    -4.975    -0.203\\nH      -3.401    -3.561    -2.070\\nH      -4.319    -3.209    -0.587\\nH      -3.195    -1.309    -0.394\\nH       0.253    -4.722    -2.983\\nH       1.454    -5.843    -2.329\\nH       2.321    -4.533    -4.269\\nH       3.281    -4.378    -2.811\\nH       3.205    -2.248    -3.805\\nH       2.297    -2.160    -2.330\\nH       1.087    -2.411    -5.148\\nH       1.380    -0.890    -4.337\\nH      -0.968    -1.435    -4.185\\nH      -0.641    -3.022    -3.473\\nH      -0.148    -0.381    -2.224\\nH       0.327    -1.883    -1.598\\nH      -1.273    -1.541    -1.797\\nH       2.084    -4.744     1.162\\nH       0.042    -4.046     3.460\\nH      -2.022    -2.772     4.310\\n\",\"xyz\");\n",
       "\tviewer_1636386756089875.setStyle({\"stick\": {}});\n",
       "\tviewer_1636386756089875.zoomTo();\n",
       "viewer_1636386756089875.render();\n",
       "});\n",
       "</script>"
      ]
     },
     "metadata": {},
     "output_type": "display_data"
    }
   ],
   "source": [
    "a131[0].show_xyz()"
   ]
  },
  {
   "cell_type": "code",
   "execution_count": 7,
   "id": "42f95499-ee45-4004-b45a-924b500088e8",
   "metadata": {},
   "outputs": [
    {
     "data": {
      "text/plain": [
       "numpy.ndarray"
      ]
     },
     "execution_count": 7,
     "metadata": {},
     "output_type": "execute_result"
    }
   ],
   "source": [
    "type(a131[0].xyz)"
   ]
  },
  {
   "cell_type": "code",
   "execution_count": 9,
   "id": "c677cc18-9f0f-490a-90b8-a533186ed6ce",
   "metadata": {},
   "outputs": [
    {
     "data": {
      "application/3dmoljs_load.v0": "<div id=\"3dmolviewer_1636334428001022\"  style=\"position: relative; width: 600px; height: 600px\">\n        <p id=\"3dmolwarning_1636334428001022\" style=\"background-color:#ffcccc;color:black\">You appear to be running in JupyterLab (or JavaScript failed to load for some other reason).  You need to install the 3dmol extension: <br>\n        <tt>jupyter labextension install jupyterlab_3dmol</tt></p>\n        </div>\n<script>\n\nvar loadScriptAsync = function(uri){\n  return new Promise((resolve, reject) => {\n    var tag = document.createElement('script');\n    tag.src = uri;\n    tag.async = true;\n    tag.onload = () => {\n      resolve();\n    };\n  var firstScriptTag = document.getElementsByTagName('script')[0];\n  firstScriptTag.parentNode.insertBefore(tag, firstScriptTag);\n});\n};\n\nif(typeof $3Dmolpromise === 'undefined') {\n$3Dmolpromise = null;\n  $3Dmolpromise = loadScriptAsync('https://3dmol.org/build/3Dmol.js');\n}\n\nvar viewer_1636334428001022 = null;\nvar warn = document.getElementById(\"3dmolwarning_1636334428001022\");\nif(warn) {\n    warn.parentNode.removeChild(warn);\n}\n$3Dmolpromise.then(function() {\nviewer_1636334428001022 = $3Dmol.createViewer($(\"#3dmolviewer_1636334428001022\"),{backgroundColor:\"white\"});\nviewer_1636334428001022.zoomTo();\n\tviewer_1636334428001022.addModel(\" 84\\nTri_A154_0000\\nO      -2.326     2.540    -0.550\\nC      -2.328     1.572     0.475\\nC      -2.552     2.269     1.809\\nC      -1.478     3.310     2.061\\nC      -0.542     3.262     0.858\\nC      -1.334     3.544    -0.412\\nC      -0.017     2.783    -0.554\\nO      -0.034     1.537     0.103\\nO       0.115     1.999     0.822\\nO      -0.783     4.429     2.567\\nO      -3.792     2.917     1.853\\nO      -2.290     0.204     0.257\\nC      -3.475    -0.508    -0.075\\nC      -3.544    -1.708     0.847\\nO      -3.643    -1.255     2.183\\nC      -2.287    -2.543     0.670\\nC      -1.951    -2.824    -0.805\\nO      -2.089    -1.673    -1.629\\nC      -3.343    -1.020    -1.503\\nC      -3.376     0.085    -2.541\\nO      -4.571     0.806    -2.327\\nO      -0.653    -3.302    -0.981\\nC       0.401    -2.515    -0.458\\nC       1.189    -3.331     0.553\\nC       2.349    -2.506     1.077\\nC       3.202    -1.967    -0.060\\nO       2.402    -1.301    -1.015\\nC       1.336    -2.055    -1.581\\nC       0.664    -1.131    -2.579\\nO       0.166     0.046    -1.952\\nO       4.049    -1.018     0.489\\nC       5.158    -0.648    -0.336\\nC       5.839     0.560     0.279\\nC       4.942     1.744     0.647\\nC       4.299     2.537    -0.495\\nC       3.173     1.868    -1.268\\nN       2.066     1.432    -0.376\\nO       3.086    -3.331     1.943\\nO       0.346    -3.697     1.626\\nO      -2.454    -3.743     1.376\\nH      -3.361     1.954     0.434\\nH      -2.474     1.489     2.583\\nH      -2.323     3.630     1.433\\nH       0.214     4.051     0.964\\nH      -1.363     4.308    -1.207\\nH       0.798     3.369    -0.124\\nH       0.193     2.649    -1.623\\nH      -0.701     0.984    -0.323\\nH       0.372     1.828     1.739\\nH      -1.340     4.851     3.230\\nH      -4.496     2.302     1.585\\nH      -4.361     0.123     0.033\\nH      -4.428    -2.305     0.584\\nH      -3.591    -2.029     2.755\\nH      -1.482    -1.953     1.117\\nH      -2.602    -3.625    -1.175\\nH      -4.164    -1.722    -1.710\\nH      -2.498     0.732    -2.414\\nH      -3.337    -0.370    -3.537\\nH      -4.775     1.326    -3.106\\nH       0.017    -1.615     0.034\\nH       1.576    -4.232     0.055\\nH       1.934    -1.639     1.616\\nH       3.768    -2.783    -0.540\\nH       1.723    -2.933    -2.119\\nH       1.405    -0.810    -3.315\\nH      -0.141    -1.662    -3.090\\nH      -0.688    -0.171    -1.544\\nH       4.802    -0.445    -1.350\\nH       5.859    -1.490    -0.392\\nH       6.623     0.886    -0.415\\nH       6.353     0.234     1.189\\nH       5.559     2.448     1.212\\nH       4.182     1.407     1.362\\nH       5.068     2.816    -1.225\\nH       3.917     3.481    -0.089\\nH       2.731     2.563    -1.983\\nH       3.501     0.980    -1.806\\nH       1.576     2.234     0.065\\nH       2.432     0.795     0.333\\nH       1.357     0.896    -0.913\\nH       3.760    -2.802     2.378\\nH       0.897    -4.118     2.295\\nH      -1.564    -4.077     1.557\\n\",\"xyz\");\n\tviewer_1636334428001022.setStyle({\"stick\": {}});\n\tviewer_1636334428001022.zoomTo();\nviewer_1636334428001022.render();\n});\n</script>",
      "text/html": [
       "<div id=\"3dmolviewer_1636334428001022\"  style=\"position: relative; width: 600px; height: 600px\">\n",
       "        <p id=\"3dmolwarning_1636334428001022\" style=\"background-color:#ffcccc;color:black\">You appear to be running in JupyterLab (or JavaScript failed to load for some other reason).  You need to install the 3dmol extension: <br>\n",
       "        <tt>jupyter labextension install jupyterlab_3dmol</tt></p>\n",
       "        </div>\n",
       "<script>\n",
       "\n",
       "var loadScriptAsync = function(uri){\n",
       "  return new Promise((resolve, reject) => {\n",
       "    var tag = document.createElement('script');\n",
       "    tag.src = uri;\n",
       "    tag.async = true;\n",
       "    tag.onload = () => {\n",
       "      resolve();\n",
       "    };\n",
       "  var firstScriptTag = document.getElementsByTagName('script')[0];\n",
       "  firstScriptTag.parentNode.insertBefore(tag, firstScriptTag);\n",
       "});\n",
       "};\n",
       "\n",
       "if(typeof $3Dmolpromise === 'undefined') {\n",
       "$3Dmolpromise = null;\n",
       "  $3Dmolpromise = loadScriptAsync('https://3dmol.org/build/3Dmol.js');\n",
       "}\n",
       "\n",
       "var viewer_1636334428001022 = null;\n",
       "var warn = document.getElementById(\"3dmolwarning_1636334428001022\");\n",
       "if(warn) {\n",
       "    warn.parentNode.removeChild(warn);\n",
       "}\n",
       "$3Dmolpromise.then(function() {\n",
       "viewer_1636334428001022 = $3Dmol.createViewer($(\"#3dmolviewer_1636334428001022\"),{backgroundColor:\"white\"});\n",
       "viewer_1636334428001022.zoomTo();\n",
       "\tviewer_1636334428001022.addModel(\" 84\\nTri_A154_0000\\nO      -2.326     2.540    -0.550\\nC      -2.328     1.572     0.475\\nC      -2.552     2.269     1.809\\nC      -1.478     3.310     2.061\\nC      -0.542     3.262     0.858\\nC      -1.334     3.544    -0.412\\nC      -0.017     2.783    -0.554\\nO      -0.034     1.537     0.103\\nO       0.115     1.999     0.822\\nO      -0.783     4.429     2.567\\nO      -3.792     2.917     1.853\\nO      -2.290     0.204     0.257\\nC      -3.475    -0.508    -0.075\\nC      -3.544    -1.708     0.847\\nO      -3.643    -1.255     2.183\\nC      -2.287    -2.543     0.670\\nC      -1.951    -2.824    -0.805\\nO      -2.089    -1.673    -1.629\\nC      -3.343    -1.020    -1.503\\nC      -3.376     0.085    -2.541\\nO      -4.571     0.806    -2.327\\nO      -0.653    -3.302    -0.981\\nC       0.401    -2.515    -0.458\\nC       1.189    -3.331     0.553\\nC       2.349    -2.506     1.077\\nC       3.202    -1.967    -0.060\\nO       2.402    -1.301    -1.015\\nC       1.336    -2.055    -1.581\\nC       0.664    -1.131    -2.579\\nO       0.166     0.046    -1.952\\nO       4.049    -1.018     0.489\\nC       5.158    -0.648    -0.336\\nC       5.839     0.560     0.279\\nC       4.942     1.744     0.647\\nC       4.299     2.537    -0.495\\nC       3.173     1.868    -1.268\\nN       2.066     1.432    -0.376\\nO       3.086    -3.331     1.943\\nO       0.346    -3.697     1.626\\nO      -2.454    -3.743     1.376\\nH      -3.361     1.954     0.434\\nH      -2.474     1.489     2.583\\nH      -2.323     3.630     1.433\\nH       0.214     4.051     0.964\\nH      -1.363     4.308    -1.207\\nH       0.798     3.369    -0.124\\nH       0.193     2.649    -1.623\\nH      -0.701     0.984    -0.323\\nH       0.372     1.828     1.739\\nH      -1.340     4.851     3.230\\nH      -4.496     2.302     1.585\\nH      -4.361     0.123     0.033\\nH      -4.428    -2.305     0.584\\nH      -3.591    -2.029     2.755\\nH      -1.482    -1.953     1.117\\nH      -2.602    -3.625    -1.175\\nH      -4.164    -1.722    -1.710\\nH      -2.498     0.732    -2.414\\nH      -3.337    -0.370    -3.537\\nH      -4.775     1.326    -3.106\\nH       0.017    -1.615     0.034\\nH       1.576    -4.232     0.055\\nH       1.934    -1.639     1.616\\nH       3.768    -2.783    -0.540\\nH       1.723    -2.933    -2.119\\nH       1.405    -0.810    -3.315\\nH      -0.141    -1.662    -3.090\\nH      -0.688    -0.171    -1.544\\nH       4.802    -0.445    -1.350\\nH       5.859    -1.490    -0.392\\nH       6.623     0.886    -0.415\\nH       6.353     0.234     1.189\\nH       5.559     2.448     1.212\\nH       4.182     1.407     1.362\\nH       5.068     2.816    -1.225\\nH       3.917     3.481    -0.089\\nH       2.731     2.563    -1.983\\nH       3.501     0.980    -1.806\\nH       1.576     2.234     0.065\\nH       2.432     0.795     0.333\\nH       1.357     0.896    -0.913\\nH       3.760    -2.802     2.378\\nH       0.897    -4.118     2.295\\nH      -1.564    -4.077     1.557\\n\",\"xyz\");\n",
       "\tviewer_1636334428001022.setStyle({\"stick\": {}});\n",
       "\tviewer_1636334428001022.zoomTo();\n",
       "viewer_1636334428001022.render();\n",
       "});\n",
       "</script>"
      ]
     },
     "metadata": {},
     "output_type": "display_data"
    }
   ],
   "source": [
    "a131[0].show_xyz()"
   ]
  },
  {
   "cell_type": "code",
   "execution_count": 27,
   "id": "016afdac-b763-460f-830b-a83855de0acf",
   "metadata": {},
   "outputs": [
    {
     "name": "stdout",
     "output_type": "stream",
     "text": [
      "ring atoms: {'C5': 5, 'C6': 6, 'O6': 7, 'O': 0, 'C1': 1, 'C4': 4, 'C2': 2, 'C3': 3}\n",
      "144.73999999999995\n",
      "atoms of the planes: [5, 3, 1, 2]\n",
      "rotation: 144.73999999999995 -144.74\n",
      "144.73999999999995\n",
      "atoms of the planes: [1, 5, 3, 4]\n",
      "rotation: 144.73999999999995 -144.74\n",
      "144.74000000000004\n",
      "atoms of the planes: [3, 1, 5, 0]\n",
      "rotation: 144.74000000000004 -144.74\n",
      "35.26000000000005 -35.26 -70.52000000000004\n",
      "atoms of the planes: [0, 4, 2, 3]\n",
      "rotation: 144.68006906695996 74.16006906695992\n",
      "[9, 42, 49]\n",
      "35.25999999999996 -35.26 -70.51999999999995\n",
      "atoms of the planes: [2, 0, 4, 5]\n",
      "rotation: 146.685354919233 76.16535491923304\n",
      "[6, 44, 7, 45, 46, 47]\n"
     ]
    }
   ],
   "source": [
    "glyP.utilities.set_ring_pucker(a131[0], 2, '1C4')"
   ]
  },
  {
   "cell_type": "code",
   "execution_count": 28,
   "id": "92e4c48d-089f-4d28-9393-9796f99760ef",
   "metadata": {},
   "outputs": [
    {
     "data": {
      "application/3dmoljs_load.v0": "<div id=\"3dmolviewer_16363325524479415\"  style=\"position: relative; width: 600px; height: 600px\">\n        <p id=\"3dmolwarning_16363325524479415\" style=\"background-color:#ffcccc;color:black\">You appear to be running in JupyterLab (or JavaScript failed to load for some other reason).  You need to install the 3dmol extension: <br>\n        <tt>jupyter labextension install jupyterlab_3dmol</tt></p>\n        </div>\n<script>\n\nvar loadScriptAsync = function(uri){\n  return new Promise((resolve, reject) => {\n    var tag = document.createElement('script');\n    tag.src = uri;\n    tag.async = true;\n    tag.onload = () => {\n      resolve();\n    };\n  var firstScriptTag = document.getElementsByTagName('script')[0];\n  firstScriptTag.parentNode.insertBefore(tag, firstScriptTag);\n});\n};\n\nif(typeof $3Dmolpromise === 'undefined') {\n$3Dmolpromise = null;\n  $3Dmolpromise = loadScriptAsync('https://3dmol.org/build/3Dmol.js');\n}\n\nvar viewer_16363325524479415 = null;\nvar warn = document.getElementById(\"3dmolwarning_16363325524479415\");\nif(warn) {\n    warn.parentNode.removeChild(warn);\n}\n$3Dmolpromise.then(function() {\nviewer_16363325524479415 = $3Dmol.createViewer($(\"#3dmolviewer_16363325524479415\"),{backgroundColor:\"white\"});\nviewer_16363325524479415.zoomTo();\n\tviewer_16363325524479415.addModel(\" 84\\nTri_A154_0000\\nO      -2.326     2.540    -0.550\\nC      -2.328     1.572     0.475\\nC      -2.552     2.269     1.809\\nC      -1.478     3.310     2.061\\nC      -1.542     4.293     0.897\\nC      -1.334     3.544    -0.412\\nC       0.011     2.827    -0.524\\nO       0.004     1.558     0.087\\nO      -0.578     5.322     1.096\\nO      -0.184     2.746     2.058\\nO      -3.792     2.917     1.853\\nO      -2.290     0.204     0.257\\nC      -3.475    -0.508    -0.075\\nC      -3.544    -1.708     0.847\\nO      -3.643    -1.255     2.183\\nC      -2.287    -2.543     0.670\\nC      -1.951    -2.824    -0.805\\nO      -2.089    -1.673    -1.629\\nC      -3.343    -1.020    -1.503\\nC      -3.376     0.085    -2.541\\nO      -4.571     0.806    -2.327\\nO      -0.653    -3.302    -0.981\\nC       0.401    -2.515    -0.458\\nC       1.189    -3.331     0.553\\nC       2.349    -2.506     1.077\\nC       3.202    -1.967    -0.060\\nO       2.402    -1.301    -1.015\\nC       1.336    -2.055    -1.581\\nC       0.664    -1.131    -2.579\\nO       0.166     0.046    -1.952\\nO       4.049    -1.018     0.489\\nC       5.158    -0.648    -0.336\\nC       5.839     0.560     0.279\\nC       4.942     1.744     0.647\\nC       4.299     2.537    -0.495\\nC       3.173     1.868    -1.268\\nN       2.066     1.432    -0.376\\nO       3.086    -3.331     1.943\\nO       0.346    -3.697     1.626\\nO      -2.454    -3.743     1.376\\nH      -3.361     1.954     0.434\\nH      -2.474     1.489     2.583\\nH      -1.671     3.833     3.009\\nH      -2.542     4.746     0.869\\nH      -1.353     4.336    -1.179\\nH       0.788     3.421    -0.038\\nH       0.270     2.739    -1.586\\nH      -0.626     1.003    -0.388\\nH      -0.655     5.557     2.032\\nH      -0.182     2.002     2.669\\nH      -4.496     2.302     1.585\\nH      -4.361     0.123     0.033\\nH      -4.428    -2.305     0.584\\nH      -3.591    -2.029     2.755\\nH      -1.482    -1.953     1.117\\nH      -2.602    -3.625    -1.175\\nH      -4.164    -1.722    -1.710\\nH      -2.498     0.732    -2.414\\nH      -3.337    -0.370    -3.537\\nH      -4.775     1.326    -3.106\\nH       0.017    -1.615     0.034\\nH       1.576    -4.232     0.055\\nH       1.934    -1.639     1.616\\nH       3.768    -2.783    -0.540\\nH       1.723    -2.933    -2.119\\nH       1.405    -0.810    -3.315\\nH      -0.141    -1.662    -3.090\\nH      -0.688    -0.171    -1.544\\nH       4.802    -0.445    -1.350\\nH       5.859    -1.490    -0.392\\nH       6.623     0.886    -0.415\\nH       6.353     0.234     1.189\\nH       5.559     2.448     1.212\\nH       4.182     1.407     1.362\\nH       5.068     2.816    -1.225\\nH       3.917     3.481    -0.089\\nH       2.731     2.563    -1.983\\nH       3.501     0.980    -1.806\\nH       1.576     2.234     0.065\\nH       2.432     0.795     0.333\\nH       1.357     0.896    -0.913\\nH       3.760    -2.802     2.378\\nH       0.897    -4.118     2.295\\nH      -1.564    -4.077     1.557\\n\",\"xyz\");\n\tviewer_16363325524479415.setStyle({\"stick\": {}});\n\tviewer_16363325524479415.zoomTo();\nviewer_16363325524479415.render();\n});\n</script>",
      "text/html": [
       "<div id=\"3dmolviewer_16363325524479415\"  style=\"position: relative; width: 600px; height: 600px\">\n",
       "        <p id=\"3dmolwarning_16363325524479415\" style=\"background-color:#ffcccc;color:black\">You appear to be running in JupyterLab (or JavaScript failed to load for some other reason).  You need to install the 3dmol extension: <br>\n",
       "        <tt>jupyter labextension install jupyterlab_3dmol</tt></p>\n",
       "        </div>\n",
       "<script>\n",
       "\n",
       "var loadScriptAsync = function(uri){\n",
       "  return new Promise((resolve, reject) => {\n",
       "    var tag = document.createElement('script');\n",
       "    tag.src = uri;\n",
       "    tag.async = true;\n",
       "    tag.onload = () => {\n",
       "      resolve();\n",
       "    };\n",
       "  var firstScriptTag = document.getElementsByTagName('script')[0];\n",
       "  firstScriptTag.parentNode.insertBefore(tag, firstScriptTag);\n",
       "});\n",
       "};\n",
       "\n",
       "if(typeof $3Dmolpromise === 'undefined') {\n",
       "$3Dmolpromise = null;\n",
       "  $3Dmolpromise = loadScriptAsync('https://3dmol.org/build/3Dmol.js');\n",
       "}\n",
       "\n",
       "var viewer_16363325524479415 = null;\n",
       "var warn = document.getElementById(\"3dmolwarning_16363325524479415\");\n",
       "if(warn) {\n",
       "    warn.parentNode.removeChild(warn);\n",
       "}\n",
       "$3Dmolpromise.then(function() {\n",
       "viewer_16363325524479415 = $3Dmol.createViewer($(\"#3dmolviewer_16363325524479415\"),{backgroundColor:\"white\"});\n",
       "viewer_16363325524479415.zoomTo();\n",
       "\tviewer_16363325524479415.addModel(\" 84\\nTri_A154_0000\\nO      -2.326     2.540    -0.550\\nC      -2.328     1.572     0.475\\nC      -2.552     2.269     1.809\\nC      -1.478     3.310     2.061\\nC      -1.542     4.293     0.897\\nC      -1.334     3.544    -0.412\\nC       0.011     2.827    -0.524\\nO       0.004     1.558     0.087\\nO      -0.578     5.322     1.096\\nO      -0.184     2.746     2.058\\nO      -3.792     2.917     1.853\\nO      -2.290     0.204     0.257\\nC      -3.475    -0.508    -0.075\\nC      -3.544    -1.708     0.847\\nO      -3.643    -1.255     2.183\\nC      -2.287    -2.543     0.670\\nC      -1.951    -2.824    -0.805\\nO      -2.089    -1.673    -1.629\\nC      -3.343    -1.020    -1.503\\nC      -3.376     0.085    -2.541\\nO      -4.571     0.806    -2.327\\nO      -0.653    -3.302    -0.981\\nC       0.401    -2.515    -0.458\\nC       1.189    -3.331     0.553\\nC       2.349    -2.506     1.077\\nC       3.202    -1.967    -0.060\\nO       2.402    -1.301    -1.015\\nC       1.336    -2.055    -1.581\\nC       0.664    -1.131    -2.579\\nO       0.166     0.046    -1.952\\nO       4.049    -1.018     0.489\\nC       5.158    -0.648    -0.336\\nC       5.839     0.560     0.279\\nC       4.942     1.744     0.647\\nC       4.299     2.537    -0.495\\nC       3.173     1.868    -1.268\\nN       2.066     1.432    -0.376\\nO       3.086    -3.331     1.943\\nO       0.346    -3.697     1.626\\nO      -2.454    -3.743     1.376\\nH      -3.361     1.954     0.434\\nH      -2.474     1.489     2.583\\nH      -1.671     3.833     3.009\\nH      -2.542     4.746     0.869\\nH      -1.353     4.336    -1.179\\nH       0.788     3.421    -0.038\\nH       0.270     2.739    -1.586\\nH      -0.626     1.003    -0.388\\nH      -0.655     5.557     2.032\\nH      -0.182     2.002     2.669\\nH      -4.496     2.302     1.585\\nH      -4.361     0.123     0.033\\nH      -4.428    -2.305     0.584\\nH      -3.591    -2.029     2.755\\nH      -1.482    -1.953     1.117\\nH      -2.602    -3.625    -1.175\\nH      -4.164    -1.722    -1.710\\nH      -2.498     0.732    -2.414\\nH      -3.337    -0.370    -3.537\\nH      -4.775     1.326    -3.106\\nH       0.017    -1.615     0.034\\nH       1.576    -4.232     0.055\\nH       1.934    -1.639     1.616\\nH       3.768    -2.783    -0.540\\nH       1.723    -2.933    -2.119\\nH       1.405    -0.810    -3.315\\nH      -0.141    -1.662    -3.090\\nH      -0.688    -0.171    -1.544\\nH       4.802    -0.445    -1.350\\nH       5.859    -1.490    -0.392\\nH       6.623     0.886    -0.415\\nH       6.353     0.234     1.189\\nH       5.559     2.448     1.212\\nH       4.182     1.407     1.362\\nH       5.068     2.816    -1.225\\nH       3.917     3.481    -0.089\\nH       2.731     2.563    -1.983\\nH       3.501     0.980    -1.806\\nH       1.576     2.234     0.065\\nH       2.432     0.795     0.333\\nH       1.357     0.896    -0.913\\nH       3.760    -2.802     2.378\\nH       0.897    -4.118     2.295\\nH      -1.564    -4.077     1.557\\n\",\"xyz\");\n",
       "\tviewer_16363325524479415.setStyle({\"stick\": {}});\n",
       "\tviewer_16363325524479415.zoomTo();\n",
       "viewer_16363325524479415.render();\n",
       "});\n",
       "</script>"
      ]
     },
     "metadata": {},
     "output_type": "display_data"
    }
   ],
   "source": [
    "a131[0].show_xyz()"
   ]
  },
  {
   "cell_type": "code",
   "execution_count": 8,
   "id": "139ba441-e164-475f-a8f1-4659d1f6c368",
   "metadata": {},
   "outputs": [
    {
     "data": {
      "text/plain": [
       "['O',\n",
       " 'C',\n",
       " 'C',\n",
       " 'C',\n",
       " 'C',\n",
       " 'C',\n",
       " 'C',\n",
       " 'O',\n",
       " 'O',\n",
       " 'O',\n",
       " 'O',\n",
       " 'O',\n",
       " 'C',\n",
       " 'C',\n",
       " 'O',\n",
       " 'C',\n",
       " 'C',\n",
       " 'O',\n",
       " 'C',\n",
       " 'C',\n",
       " 'O',\n",
       " 'O',\n",
       " 'C',\n",
       " 'C',\n",
       " 'C',\n",
       " 'C',\n",
       " 'O',\n",
       " 'C',\n",
       " 'C',\n",
       " 'O',\n",
       " 'O',\n",
       " 'C',\n",
       " 'C',\n",
       " 'C',\n",
       " 'C',\n",
       " 'C',\n",
       " 'N',\n",
       " 'O',\n",
       " 'O',\n",
       " 'O',\n",
       " 'H',\n",
       " 'H',\n",
       " 'H',\n",
       " 'H',\n",
       " 'H',\n",
       " 'H',\n",
       " 'H',\n",
       " 'H',\n",
       " 'H',\n",
       " 'H',\n",
       " 'H',\n",
       " 'H',\n",
       " 'H',\n",
       " 'H',\n",
       " 'H',\n",
       " 'H',\n",
       " 'H',\n",
       " 'H',\n",
       " 'H',\n",
       " 'H',\n",
       " 'H',\n",
       " 'H',\n",
       " 'H',\n",
       " 'H',\n",
       " 'H',\n",
       " 'H',\n",
       " 'H',\n",
       " 'H',\n",
       " 'H',\n",
       " 'H',\n",
       " 'H',\n",
       " 'H',\n",
       " 'H',\n",
       " 'H',\n",
       " 'H',\n",
       " 'H',\n",
       " 'H',\n",
       " 'H',\n",
       " 'H',\n",
       " 'H',\n",
       " 'H',\n",
       " 'H',\n",
       " 'H',\n",
       " 'H']"
      ]
     },
     "execution_count": 8,
     "metadata": {},
     "output_type": "execute_result"
    }
   ],
   "source": [
    "a131[0].atoms"
   ]
  },
  {
   "cell_type": "code",
   "execution_count": 24,
   "id": "297fa706-36da-4ce2-b2cb-6656c28b3398",
   "metadata": {},
   "outputs": [
    {
     "data": {
      "application/3dmoljs_load.v0": "<div id=\"3dmolviewer_163613941652764\"  style=\"position: relative; width: 600px; height: 600px\">\n        <p id=\"3dmolwarning_163613941652764\" style=\"background-color:#ffcccc;color:black\">You appear to be running in JupyterLab (or JavaScript failed to load for some other reason).  You need to install the 3dmol extension: <br>\n        <tt>jupyter labextension install jupyterlab_3dmol</tt></p>\n        </div>\n<script>\n\nvar loadScriptAsync = function(uri){\n  return new Promise((resolve, reject) => {\n    var tag = document.createElement('script');\n    tag.src = uri;\n    tag.async = true;\n    tag.onload = () => {\n      resolve();\n    };\n  var firstScriptTag = document.getElementsByTagName('script')[0];\n  firstScriptTag.parentNode.insertBefore(tag, firstScriptTag);\n});\n};\n\nif(typeof $3Dmolpromise === 'undefined') {\n$3Dmolpromise = null;\n  $3Dmolpromise = loadScriptAsync('https://3dmol.org/build/3Dmol.js');\n}\n\nvar viewer_163613941652764 = null;\nvar warn = document.getElementById(\"3dmolwarning_163613941652764\");\nif(warn) {\n    warn.parentNode.removeChild(warn);\n}\n$3Dmolpromise.then(function() {\nviewer_163613941652764 = $3Dmol.createViewer($(\"#3dmolviewer_163613941652764\"),{backgroundColor:\"white\"});\nviewer_163613941652764.zoomTo();\n\tviewer_163613941652764.addModel(\" 84\\nTri_A131_ga26\\nO       1.985     2.341     1.597\\nC       2.030     0.964     1.827\\nC       0.808     0.518     2.632\\nC      -0.456     0.871     1.865\\nC      -0.469     2.362     1.559\\nC       0.834     2.792     0.894\\nH       2.950     0.792     2.394\\nH       0.812     1.087     3.568\\nH      -0.482     0.299     0.933\\nH      -1.291     2.574     0.867\\nH       0.831     2.387    -0.126\\nO      -0.713     3.004     2.799\\nO      -1.626     0.525     2.588\\nO       0.827    -0.879     2.892\\nO       2.051     0.217     0.636\\nC       0.968     4.306     0.852\\nH       1.313     4.645     1.836\\nH       1.719     4.588     0.106\\nO      -0.310     4.841     0.541\\nH      -0.223     5.780     0.363\\nH      -0.981     3.909     2.607\\nH      -1.805     1.250     3.201\\nH       1.321    -1.028     3.702\\nO       2.324    -1.858    -1.258\\nC       2.446    -0.823    -2.207\\nC       3.003     0.474    -1.565\\nC       3.280     0.303    -0.077\\nC       4.120    -0.941     0.169\\nC       3.514    -2.176    -0.557\\nH       3.140    -1.130    -3.002\\nH       2.276     1.278    -1.698\\nH       3.834     1.186     0.256\\nH       5.112    -0.739    -0.247\\nH       4.257    -2.566    -1.270\\nO       4.207    -1.120     1.580\\nO       4.251     0.816    -2.144\\nO       1.217    -0.683    -2.840\\nC       3.126    -3.303     0.386\\nH       2.840    -4.175    -0.207\\nH       3.980    -3.584     1.012\\nO       1.999    -2.972     1.172\\nH       2.162    -2.137     1.634\\nH       5.081    -1.437     1.809\\nH       4.097     1.221    -3.000\\nO      -2.113    -0.920    -1.369\\nC      -2.747     0.180    -1.989\\nC      -1.795     1.360    -2.000\\nC      -0.475     0.998    -2.656\\nC       0.112    -0.267    -2.048\\nC      -0.960    -1.365    -2.070\\nH      -3.040    -0.096    -3.019\\nH      -1.605     1.616    -0.948\\nH      -0.655     0.804    -3.725\\nH      -1.212    -1.573    -3.123\\nH       0.423    -0.092    -1.014\\nO       0.436     2.068    -2.509\\nO      -2.310     2.465    -2.703\\nO      -3.840     0.542    -1.231\\nC      -0.545    -2.672    -1.433\\nH      -1.351    -3.397    -1.592\\nH       0.359    -3.039    -1.921\\nO      -0.339    -2.529    -0.042\\nH       0.602    -2.643     0.217\\nH      -0.007     2.860    -2.833\\nH      -3.119     2.749    -2.268\\nC      -4.930    -0.383    -1.254\\nH      -5.683    -0.024    -1.964\\nH      -4.572    -1.359    -1.600\\nC      -5.515    -0.485     0.140\\nH      -6.384    -1.154     0.097\\nH      -5.895     0.500     0.430\\nC      -4.523    -0.968     1.196\\nH      -3.672    -0.279     1.204\\nH      -4.998    -0.892     2.182\\nC      -4.046    -2.402     0.982\\nH      -4.908    -3.076     0.933\\nH      -3.521    -2.486     0.024\\nC      -3.137    -2.919     2.083\\nH      -2.898    -3.973     1.927\\nH      -3.606    -2.818     3.066\\nN      -1.847    -2.180     2.114\\nH      -1.207    -2.545     2.818\\nH      -1.959    -1.174     2.338\\nH      -1.332    -2.262     1.192\\n\",\"xyz\");\n\tviewer_163613941652764.setStyle({\"stick\": {}});\n\tviewer_163613941652764.zoomTo();\nviewer_163613941652764.render();\n});\n</script>",
      "text/html": [
       "<div id=\"3dmolviewer_163613941652764\"  style=\"position: relative; width: 600px; height: 600px\">\n",
       "        <p id=\"3dmolwarning_163613941652764\" style=\"background-color:#ffcccc;color:black\">You appear to be running in JupyterLab (or JavaScript failed to load for some other reason).  You need to install the 3dmol extension: <br>\n",
       "        <tt>jupyter labextension install jupyterlab_3dmol</tt></p>\n",
       "        </div>\n",
       "<script>\n",
       "\n",
       "var loadScriptAsync = function(uri){\n",
       "  return new Promise((resolve, reject) => {\n",
       "    var tag = document.createElement('script');\n",
       "    tag.src = uri;\n",
       "    tag.async = true;\n",
       "    tag.onload = () => {\n",
       "      resolve();\n",
       "    };\n",
       "  var firstScriptTag = document.getElementsByTagName('script')[0];\n",
       "  firstScriptTag.parentNode.insertBefore(tag, firstScriptTag);\n",
       "});\n",
       "};\n",
       "\n",
       "if(typeof $3Dmolpromise === 'undefined') {\n",
       "$3Dmolpromise = null;\n",
       "  $3Dmolpromise = loadScriptAsync('https://3dmol.org/build/3Dmol.js');\n",
       "}\n",
       "\n",
       "var viewer_163613941652764 = null;\n",
       "var warn = document.getElementById(\"3dmolwarning_163613941652764\");\n",
       "if(warn) {\n",
       "    warn.parentNode.removeChild(warn);\n",
       "}\n",
       "$3Dmolpromise.then(function() {\n",
       "viewer_163613941652764 = $3Dmol.createViewer($(\"#3dmolviewer_163613941652764\"),{backgroundColor:\"white\"});\n",
       "viewer_163613941652764.zoomTo();\n",
       "\tviewer_163613941652764.addModel(\" 84\\nTri_A131_ga26\\nO       1.985     2.341     1.597\\nC       2.030     0.964     1.827\\nC       0.808     0.518     2.632\\nC      -0.456     0.871     1.865\\nC      -0.469     2.362     1.559\\nC       0.834     2.792     0.894\\nH       2.950     0.792     2.394\\nH       0.812     1.087     3.568\\nH      -0.482     0.299     0.933\\nH      -1.291     2.574     0.867\\nH       0.831     2.387    -0.126\\nO      -0.713     3.004     2.799\\nO      -1.626     0.525     2.588\\nO       0.827    -0.879     2.892\\nO       2.051     0.217     0.636\\nC       0.968     4.306     0.852\\nH       1.313     4.645     1.836\\nH       1.719     4.588     0.106\\nO      -0.310     4.841     0.541\\nH      -0.223     5.780     0.363\\nH      -0.981     3.909     2.607\\nH      -1.805     1.250     3.201\\nH       1.321    -1.028     3.702\\nO       2.324    -1.858    -1.258\\nC       2.446    -0.823    -2.207\\nC       3.003     0.474    -1.565\\nC       3.280     0.303    -0.077\\nC       4.120    -0.941     0.169\\nC       3.514    -2.176    -0.557\\nH       3.140    -1.130    -3.002\\nH       2.276     1.278    -1.698\\nH       3.834     1.186     0.256\\nH       5.112    -0.739    -0.247\\nH       4.257    -2.566    -1.270\\nO       4.207    -1.120     1.580\\nO       4.251     0.816    -2.144\\nO       1.217    -0.683    -2.840\\nC       3.126    -3.303     0.386\\nH       2.840    -4.175    -0.207\\nH       3.980    -3.584     1.012\\nO       1.999    -2.972     1.172\\nH       2.162    -2.137     1.634\\nH       5.081    -1.437     1.809\\nH       4.097     1.221    -3.000\\nO      -2.113    -0.920    -1.369\\nC      -2.747     0.180    -1.989\\nC      -1.795     1.360    -2.000\\nC      -0.475     0.998    -2.656\\nC       0.112    -0.267    -2.048\\nC      -0.960    -1.365    -2.070\\nH      -3.040    -0.096    -3.019\\nH      -1.605     1.616    -0.948\\nH      -0.655     0.804    -3.725\\nH      -1.212    -1.573    -3.123\\nH       0.423    -0.092    -1.014\\nO       0.436     2.068    -2.509\\nO      -2.310     2.465    -2.703\\nO      -3.840     0.542    -1.231\\nC      -0.545    -2.672    -1.433\\nH      -1.351    -3.397    -1.592\\nH       0.359    -3.039    -1.921\\nO      -0.339    -2.529    -0.042\\nH       0.602    -2.643     0.217\\nH      -0.007     2.860    -2.833\\nH      -3.119     2.749    -2.268\\nC      -4.930    -0.383    -1.254\\nH      -5.683    -0.024    -1.964\\nH      -4.572    -1.359    -1.600\\nC      -5.515    -0.485     0.140\\nH      -6.384    -1.154     0.097\\nH      -5.895     0.500     0.430\\nC      -4.523    -0.968     1.196\\nH      -3.672    -0.279     1.204\\nH      -4.998    -0.892     2.182\\nC      -4.046    -2.402     0.982\\nH      -4.908    -3.076     0.933\\nH      -3.521    -2.486     0.024\\nC      -3.137    -2.919     2.083\\nH      -2.898    -3.973     1.927\\nH      -3.606    -2.818     3.066\\nN      -1.847    -2.180     2.114\\nH      -1.207    -2.545     2.818\\nH      -1.959    -1.174     2.338\\nH      -1.332    -2.262     1.192\\n\",\"xyz\");\n",
       "\tviewer_163613941652764.setStyle({\"stick\": {}});\n",
       "\tviewer_163613941652764.zoomTo();\n",
       "viewer_163613941652764.render();\n",
       "});\n",
       "</script>"
      ]
     },
     "metadata": {},
     "output_type": "display_data"
    }
   ],
   "source": [
    "a131[2].show_xyz()"
   ]
  },
  {
   "cell_type": "code",
   "execution_count": null,
   "id": "03311f55-941d-4302-9738-bfdf3bc05647",
   "metadata": {},
   "outputs": [],
   "source": []
  }
 ],
 "metadata": {
  "kernelspec": {
   "display_name": "Python 3",
   "language": "python",
   "name": "python3"
  },
  "language_info": {
   "codemirror_mode": {
    "name": "ipython",
    "version": 3
   },
   "file_extension": ".py",
   "mimetype": "text/x-python",
   "name": "python",
   "nbconvert_exporter": "python",
   "pygments_lexer": "ipython3",
   "version": "3.9.7"
  }
 },
 "nbformat": 4,
 "nbformat_minor": 5
}
