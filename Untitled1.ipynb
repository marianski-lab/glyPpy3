{
 "cells": [
  {
   "cell_type": "code",
   "execution_count": 1,
   "id": "3737f7b5-fb73-4e24-8542-b2dcbc38d728",
   "metadata": {},
   "outputs": [],
   "source": [
    "import glyP"
   ]
  },
  {
   "cell_type": "code",
   "execution_count": 2,
   "id": "03d00600-859a-4377-9feb-7b914be66d1e",
   "metadata": {},
   "outputs": [
    {
     "name": "stdout",
     "output_type": "stream",
     "text": [
      "tst        directory already exists, load existing data\n",
      "Loading tst                           \n"
     ]
    }
   ],
   "source": [
    "a131 = glyP.Space('tst')"
   ]
  },
  {
   "cell_type": "code",
   "execution_count": 3,
   "id": "bd70efed-af89-405e-b1a4-51089f6904e7",
   "metadata": {},
   "outputs": [
    {
     "name": "stdout",
     "output_type": "stream",
     "text": [
      "Loading tri                           \n"
     ]
    }
   ],
   "source": [
    "a131.load_dir('tri')"
   ]
  },
  {
   "cell_type": "code",
   "execution_count": 4,
   "id": "44ec9e40-1b66-44b3-9a64-be7d6188aee3",
   "metadata": {},
   "outputs": [
    {
     "name": "stdout",
     "output_type": "stream",
     "text": [
      "assigning atoms\n",
      "assigning rings\n",
      "assigning dihs\n"
     ]
    }
   ],
   "source": [
    "a131.assign_atoms()\n",
    "a131.assign_ring_puckers()\n",
    "a131.assign_glycosidic_angles()"
   ]
  },
  {
   "cell_type": "code",
   "execution_count": 5,
   "id": "2c242cb6-df8a-42e4-92b2-e62b1dc28c36",
   "metadata": {},
   "outputs": [
    {
     "data": {
      "application/3dmoljs_load.v0": "<div id=\"3dmolviewer_16363176107826793\"  style=\"position: relative; width: 600px; height: 600px\">\n        <p id=\"3dmolwarning_16363176107826793\" style=\"background-color:#ffcccc;color:black\">You appear to be running in JupyterLab (or JavaScript failed to load for some other reason).  You need to install the 3dmol extension: <br>\n        <tt>jupyter labextension install jupyterlab_3dmol</tt></p>\n        </div>\n<script>\n\nvar loadScriptAsync = function(uri){\n  return new Promise((resolve, reject) => {\n    var tag = document.createElement('script');\n    tag.src = uri;\n    tag.async = true;\n    tag.onload = () => {\n      resolve();\n    };\n  var firstScriptTag = document.getElementsByTagName('script')[0];\n  firstScriptTag.parentNode.insertBefore(tag, firstScriptTag);\n});\n};\n\nif(typeof $3Dmolpromise === 'undefined') {\n$3Dmolpromise = null;\n  $3Dmolpromise = loadScriptAsync('https://3dmol.org/build/3Dmol.js');\n}\n\nvar viewer_16363176107826793 = null;\nvar warn = document.getElementById(\"3dmolwarning_16363176107826793\");\nif(warn) {\n    warn.parentNode.removeChild(warn);\n}\n$3Dmolpromise.then(function() {\nviewer_16363176107826793 = $3Dmol.createViewer($(\"#3dmolviewer_16363176107826793\"),{backgroundColor:\"white\"});\nviewer_16363176107826793.zoomTo();\n\tviewer_16363176107826793.addModel(\" 84\\nTri_A154_0000\\nO      -1.545     2.148    -0.546\\nC      -2.328     1.572     0.475\\nC      -1.706     1.827     1.839\\nC      -1.478     3.310     2.061\\nC      -0.671     3.903     0.911\\nC      -1.334     3.544    -0.412\\nC      -0.592     3.968    -1.678\\nO       0.445     3.080    -2.025\\nO       0.673     3.441     0.991\\nO      -0.738     3.544     3.239\\nO      -2.524     1.363     2.876\\nO      -2.290     0.204     0.257\\nC      -3.475    -0.508    -0.075\\nC      -3.544    -1.708     0.847\\nO      -3.643    -1.255     2.183\\nC      -2.287    -2.543     0.670\\nC      -1.951    -2.824    -0.805\\nO      -2.089    -1.673    -1.629\\nC      -3.343    -1.020    -1.503\\nC      -3.376     0.085    -2.541\\nO      -4.571     0.806    -2.327\\nO      -0.653    -3.302    -0.981\\nC       0.401    -2.515    -0.458\\nC       1.189    -3.331     0.553\\nC       2.349    -2.506     1.077\\nC       3.202    -1.967    -0.060\\nO       2.402    -1.301    -1.015\\nC       1.336    -2.055    -1.581\\nC       0.664    -1.131    -2.579\\nO       0.166     0.046    -1.952\\nO       4.049    -1.018     0.489\\nC       5.158    -0.648    -0.336\\nC       5.839     0.560     0.279\\nC       4.942     1.744     0.647\\nC       4.299     2.537    -0.495\\nC       3.173     1.868    -1.268\\nN       2.066     1.432    -0.376\\nO       3.086    -3.331     1.943\\nO       0.346    -3.697     1.626\\nO      -2.454    -3.743     1.376\\nH      -3.361     1.954     0.434\\nH      -0.729     1.318     1.834\\nH      -2.455     3.812     2.111\\nH      -0.676     4.998     1.002\\nH      -2.305     4.067    -0.405\\nH      -0.144     4.954    -1.533\\nH      -1.318     4.046    -2.497\\nH       0.048     2.224    -2.231\\nH       0.903     3.508     1.929\\nH      -1.151     3.049     3.954\\nH      -2.782     0.441     2.706\\nH      -4.361     0.123     0.033\\nH      -4.428    -2.305     0.584\\nH      -3.591    -2.029     2.755\\nH      -1.482    -1.953     1.117\\nH      -2.602    -3.625    -1.175\\nH      -4.164    -1.722    -1.710\\nH      -2.498     0.732    -2.414\\nH      -3.337    -0.370    -3.537\\nH      -4.775     1.326    -3.106\\nH       0.017    -1.615     0.034\\nH       1.576    -4.232     0.055\\nH       1.934    -1.639     1.616\\nH       3.768    -2.783    -0.540\\nH       1.723    -2.933    -2.119\\nH       1.405    -0.810    -3.315\\nH      -0.141    -1.662    -3.090\\nH      -0.688    -0.171    -1.544\\nH       4.802    -0.445    -1.350\\nH       5.859    -1.490    -0.392\\nH       6.623     0.886    -0.415\\nH       6.353     0.234     1.189\\nH       5.559     2.448     1.212\\nH       4.182     1.407     1.362\\nH       5.068     2.816    -1.225\\nH       3.917     3.481    -0.089\\nH       2.731     2.563    -1.983\\nH       3.501     0.980    -1.806\\nH       1.576     2.234     0.065\\nH       2.432     0.795     0.333\\nH       1.357     0.896    -0.913\\nH       3.760    -2.802     2.378\\nH       0.897    -4.118     2.295\\nH      -1.564    -4.077     1.557\\n\",\"xyz\");\n\tviewer_16363176107826793.setStyle({\"stick\": {}});\n\tviewer_16363176107826793.zoomTo();\nviewer_16363176107826793.render();\n});\n</script>",
      "text/html": [
       "<div id=\"3dmolviewer_16363176107826793\"  style=\"position: relative; width: 600px; height: 600px\">\n",
       "        <p id=\"3dmolwarning_16363176107826793\" style=\"background-color:#ffcccc;color:black\">You appear to be running in JupyterLab (or JavaScript failed to load for some other reason).  You need to install the 3dmol extension: <br>\n",
       "        <tt>jupyter labextension install jupyterlab_3dmol</tt></p>\n",
       "        </div>\n",
       "<script>\n",
       "\n",
       "var loadScriptAsync = function(uri){\n",
       "  return new Promise((resolve, reject) => {\n",
       "    var tag = document.createElement('script');\n",
       "    tag.src = uri;\n",
       "    tag.async = true;\n",
       "    tag.onload = () => {\n",
       "      resolve();\n",
       "    };\n",
       "  var firstScriptTag = document.getElementsByTagName('script')[0];\n",
       "  firstScriptTag.parentNode.insertBefore(tag, firstScriptTag);\n",
       "});\n",
       "};\n",
       "\n",
       "if(typeof $3Dmolpromise === 'undefined') {\n",
       "$3Dmolpromise = null;\n",
       "  $3Dmolpromise = loadScriptAsync('https://3dmol.org/build/3Dmol.js');\n",
       "}\n",
       "\n",
       "var viewer_16363176107826793 = null;\n",
       "var warn = document.getElementById(\"3dmolwarning_16363176107826793\");\n",
       "if(warn) {\n",
       "    warn.parentNode.removeChild(warn);\n",
       "}\n",
       "$3Dmolpromise.then(function() {\n",
       "viewer_16363176107826793 = $3Dmol.createViewer($(\"#3dmolviewer_16363176107826793\"),{backgroundColor:\"white\"});\n",
       "viewer_16363176107826793.zoomTo();\n",
       "\tviewer_16363176107826793.addModel(\" 84\\nTri_A154_0000\\nO      -1.545     2.148    -0.546\\nC      -2.328     1.572     0.475\\nC      -1.706     1.827     1.839\\nC      -1.478     3.310     2.061\\nC      -0.671     3.903     0.911\\nC      -1.334     3.544    -0.412\\nC      -0.592     3.968    -1.678\\nO       0.445     3.080    -2.025\\nO       0.673     3.441     0.991\\nO      -0.738     3.544     3.239\\nO      -2.524     1.363     2.876\\nO      -2.290     0.204     0.257\\nC      -3.475    -0.508    -0.075\\nC      -3.544    -1.708     0.847\\nO      -3.643    -1.255     2.183\\nC      -2.287    -2.543     0.670\\nC      -1.951    -2.824    -0.805\\nO      -2.089    -1.673    -1.629\\nC      -3.343    -1.020    -1.503\\nC      -3.376     0.085    -2.541\\nO      -4.571     0.806    -2.327\\nO      -0.653    -3.302    -0.981\\nC       0.401    -2.515    -0.458\\nC       1.189    -3.331     0.553\\nC       2.349    -2.506     1.077\\nC       3.202    -1.967    -0.060\\nO       2.402    -1.301    -1.015\\nC       1.336    -2.055    -1.581\\nC       0.664    -1.131    -2.579\\nO       0.166     0.046    -1.952\\nO       4.049    -1.018     0.489\\nC       5.158    -0.648    -0.336\\nC       5.839     0.560     0.279\\nC       4.942     1.744     0.647\\nC       4.299     2.537    -0.495\\nC       3.173     1.868    -1.268\\nN       2.066     1.432    -0.376\\nO       3.086    -3.331     1.943\\nO       0.346    -3.697     1.626\\nO      -2.454    -3.743     1.376\\nH      -3.361     1.954     0.434\\nH      -0.729     1.318     1.834\\nH      -2.455     3.812     2.111\\nH      -0.676     4.998     1.002\\nH      -2.305     4.067    -0.405\\nH      -0.144     4.954    -1.533\\nH      -1.318     4.046    -2.497\\nH       0.048     2.224    -2.231\\nH       0.903     3.508     1.929\\nH      -1.151     3.049     3.954\\nH      -2.782     0.441     2.706\\nH      -4.361     0.123     0.033\\nH      -4.428    -2.305     0.584\\nH      -3.591    -2.029     2.755\\nH      -1.482    -1.953     1.117\\nH      -2.602    -3.625    -1.175\\nH      -4.164    -1.722    -1.710\\nH      -2.498     0.732    -2.414\\nH      -3.337    -0.370    -3.537\\nH      -4.775     1.326    -3.106\\nH       0.017    -1.615     0.034\\nH       1.576    -4.232     0.055\\nH       1.934    -1.639     1.616\\nH       3.768    -2.783    -0.540\\nH       1.723    -2.933    -2.119\\nH       1.405    -0.810    -3.315\\nH      -0.141    -1.662    -3.090\\nH      -0.688    -0.171    -1.544\\nH       4.802    -0.445    -1.350\\nH       5.859    -1.490    -0.392\\nH       6.623     0.886    -0.415\\nH       6.353     0.234     1.189\\nH       5.559     2.448     1.212\\nH       4.182     1.407     1.362\\nH       5.068     2.816    -1.225\\nH       3.917     3.481    -0.089\\nH       2.731     2.563    -1.983\\nH       3.501     0.980    -1.806\\nH       1.576     2.234     0.065\\nH       2.432     0.795     0.333\\nH       1.357     0.896    -0.913\\nH       3.760    -2.802     2.378\\nH       0.897    -4.118     2.295\\nH      -1.564    -4.077     1.557\\n\",\"xyz\");\n",
       "\tviewer_16363176107826793.setStyle({\"stick\": {}});\n",
       "\tviewer_16363176107826793.zoomTo();\n",
       "viewer_16363176107826793.render();\n",
       "});\n",
       "</script>"
      ]
     },
     "metadata": {},
     "output_type": "display_data"
    }
   ],
   "source": [
    "a131[0].show_xyz()"
   ]
  },
  {
   "cell_type": "code",
   "execution_count": 6,
   "id": "c69006d1-b35d-48a0-ad6c-48fe88069d78",
   "metadata": {},
   "outputs": [
    {
     "name": "stdout",
     "output_type": "stream",
     "text": [
      "ring atoms: {'C5': 5, 'C6': 6, 'O6': 7, 'O': 0, 'C1': 1, 'C4': 4, 'C2': 2, 'C3': 3}\n",
      "atoms of the planes: [5, 3, 1, 2]\n",
      "atoms of the planes: [1, 5, 3, 4]\n",
      "atoms of the planes: [3, 1, 5, 0]\n",
      "[-35.26, -35.26, -35.26] [32.01666292634741, 30.40056518793307, 34.54822306358324]\n",
      "28.749339995790734 -67.2766629263474\n",
      "atoms of the planes: [4, 2, 0, 1]\n",
      "[11, 40, 12, 13, 18, 51, 14, 15, 52, 17, 19, 56, 53, 16, 39, 54, 20, 57, 58, 21, 55, 83, 59, 22, 23, 27, 60, 24, 38, 61, 26, 28, 64, 25, 37, 62, 82, 29, 65, 66, 30, 63, 81, 67, 31, 32, 68, 69, 33, 70, 71, 34, 72, 73, 35, 74, 75, 36, 76, 77, 78, 79, 80]\n",
      "29.36498960366262 -65.66056518793306\n",
      "atoms of the planes: [0, 4, 2, 3]\n",
      "[9, 42, 49]\n",
      "22.74908418004628 -69.80822306358323\n",
      "atoms of the planes: [2, 0, 4, 5]\n",
      "[6, 44, 7, 45, 46, 47]\n"
     ]
    }
   ],
   "source": [
    "glyP.utilities.set_ring_pucker(a131[0], 2, '1C4')"
   ]
  },
  {
   "cell_type": "code",
   "execution_count": 7,
   "id": "60638f80-f18e-490d-8b5f-df7553e7fb34",
   "metadata": {},
   "outputs": [
    {
     "data": {
      "application/3dmoljs_load.v0": "<div id=\"3dmolviewer_16363176143464313\"  style=\"position: relative; width: 600px; height: 600px\">\n        <p id=\"3dmolwarning_16363176143464313\" style=\"background-color:#ffcccc;color:black\">You appear to be running in JupyterLab (or JavaScript failed to load for some other reason).  You need to install the 3dmol extension: <br>\n        <tt>jupyter labextension install jupyterlab_3dmol</tt></p>\n        </div>\n<script>\n\nvar loadScriptAsync = function(uri){\n  return new Promise((resolve, reject) => {\n    var tag = document.createElement('script');\n    tag.src = uri;\n    tag.async = true;\n    tag.onload = () => {\n      resolve();\n    };\n  var firstScriptTag = document.getElementsByTagName('script')[0];\n  firstScriptTag.parentNode.insertBefore(tag, firstScriptTag);\n});\n};\n\nif(typeof $3Dmolpromise === 'undefined') {\n$3Dmolpromise = null;\n  $3Dmolpromise = loadScriptAsync('https://3dmol.org/build/3Dmol.js');\n}\n\nvar viewer_16363176143464313 = null;\nvar warn = document.getElementById(\"3dmolwarning_16363176143464313\");\nif(warn) {\n    warn.parentNode.removeChild(warn);\n}\n$3Dmolpromise.then(function() {\nviewer_16363176143464313 = $3Dmol.createViewer($(\"#3dmolviewer_16363176143464313\"),{backgroundColor:\"white\"});\nviewer_16363176143464313.zoomTo();\n\tviewer_16363176143464313.addModel(\" 84\\nTri_A154_0000\\nO      -2.326     2.540    -0.550\\nC      -2.328     1.572     0.475\\nC      -2.552     2.269     1.809\\nC      -1.478     3.310     2.061\\nC      -1.542     4.293     0.897\\nC      -1.334     3.544    -0.412\\nC       0.027     3.032    -0.880\\nO       0.337     1.758    -0.365\\nO      -0.578     5.322     1.096\\nO      -0.178     2.897     2.421\\nO      -3.792     2.917     1.853\\nO      -1.221     0.741     0.421\\nC      -1.368    -0.639     0.111\\nC      -0.600    -1.414     1.162\\nO      -1.178    -1.167     2.429\\nC       0.850    -0.961     1.153\\nC       1.461    -0.920    -0.259\\nO       0.589    -0.334    -1.219\\nC      -0.712    -0.901    -1.238\\nC      -1.456    -0.268    -2.398\\nO      -2.784    -0.744    -2.335\\nO       2.661    -0.211    -0.308\\nC       2.645     1.119     0.175\\nC       3.639     1.256     1.316\\nC       3.660     2.693     1.801\\nC       3.918     3.659     0.657\\nO       3.024     3.421    -0.412\\nC       3.012     2.101    -0.942\\nC       2.005     2.123    -2.076\\nO       0.708     2.489    -1.618\\nO       3.644     4.930     1.136\\nC       4.153     6.001     0.335\\nC       3.568     7.306     0.839\\nC       2.048     7.357     1.017\\nC       1.179     7.316    -0.243\\nC       1.089     5.995    -0.992\\nN       0.626     4.887    -0.115\\nO       4.648     2.779     2.796\\nO       3.262     0.403     2.377\\nO       1.584    -1.818     1.984\\nH      -3.261     1.004     0.334\\nH      -2.474     1.489     2.583\\nH      -1.937     3.896     2.870\\nH      -2.542     4.746     0.869\\nH      -1.642     4.346    -1.103\\nH       0.813     3.717    -0.554\\nH       0.032     3.013    -1.977\\nH      -0.310     1.131    -0.713\\nH      -0.655     5.557     2.032\\nH      -0.258     2.219     3.101\\nH      -4.496     2.302     1.585\\nH      -2.421    -0.933     0.096\\nH      -0.657    -2.485     0.924\\nH      -0.619    -1.591     3.089\\nH       0.841     0.050     1.570\\nH       1.720    -1.940    -0.568\\nH      -0.656    -1.986    -1.405\\nH      -1.424     0.825    -2.301\\nH      -0.956    -0.554    -3.331\\nH      -3.215    -0.603    -3.179\\nH       1.649     1.397     0.537\\nH       4.638     0.979     0.948\\nH       2.665     2.928     2.212\\nH       4.960     3.575     0.306\\nH       3.999     1.837    -1.352\\nH       2.311     2.878    -2.803\\nH       1.978     1.147    -2.563\\nH       0.293     1.700    -1.234\\nH       3.901     5.817    -0.715\\nH       5.246     6.020     0.415\\nH       3.891     8.099     0.156\\nH       4.026     7.532     1.808\\nH       1.819     8.297     1.529\\nH       1.746     6.576     1.725\\nH       1.533     8.067    -0.957\\nH       0.161     7.620     0.029\\nH       0.367     6.061    -1.805\\nH       2.047     5.679    -1.403\\nH      -0.355     5.019     0.201\\nH       1.256     4.797     0.682\\nH       0.664     3.982    -0.624\\nH       4.605     3.650     3.202\\nH       3.847     0.591     3.120\\nH       2.374    -1.327     2.250\\n\",\"xyz\");\n\tviewer_16363176143464313.setStyle({\"stick\": {}});\n\tviewer_16363176143464313.zoomTo();\nviewer_16363176143464313.render();\n});\n</script>",
      "text/html": [
       "<div id=\"3dmolviewer_16363176143464313\"  style=\"position: relative; width: 600px; height: 600px\">\n",
       "        <p id=\"3dmolwarning_16363176143464313\" style=\"background-color:#ffcccc;color:black\">You appear to be running in JupyterLab (or JavaScript failed to load for some other reason).  You need to install the 3dmol extension: <br>\n",
       "        <tt>jupyter labextension install jupyterlab_3dmol</tt></p>\n",
       "        </div>\n",
       "<script>\n",
       "\n",
       "var loadScriptAsync = function(uri){\n",
       "  return new Promise((resolve, reject) => {\n",
       "    var tag = document.createElement('script');\n",
       "    tag.src = uri;\n",
       "    tag.async = true;\n",
       "    tag.onload = () => {\n",
       "      resolve();\n",
       "    };\n",
       "  var firstScriptTag = document.getElementsByTagName('script')[0];\n",
       "  firstScriptTag.parentNode.insertBefore(tag, firstScriptTag);\n",
       "});\n",
       "};\n",
       "\n",
       "if(typeof $3Dmolpromise === 'undefined') {\n",
       "$3Dmolpromise = null;\n",
       "  $3Dmolpromise = loadScriptAsync('https://3dmol.org/build/3Dmol.js');\n",
       "}\n",
       "\n",
       "var viewer_16363176143464313 = null;\n",
       "var warn = document.getElementById(\"3dmolwarning_16363176143464313\");\n",
       "if(warn) {\n",
       "    warn.parentNode.removeChild(warn);\n",
       "}\n",
       "$3Dmolpromise.then(function() {\n",
       "viewer_16363176143464313 = $3Dmol.createViewer($(\"#3dmolviewer_16363176143464313\"),{backgroundColor:\"white\"});\n",
       "viewer_16363176143464313.zoomTo();\n",
       "\tviewer_16363176143464313.addModel(\" 84\\nTri_A154_0000\\nO      -2.326     2.540    -0.550\\nC      -2.328     1.572     0.475\\nC      -2.552     2.269     1.809\\nC      -1.478     3.310     2.061\\nC      -1.542     4.293     0.897\\nC      -1.334     3.544    -0.412\\nC       0.027     3.032    -0.880\\nO       0.337     1.758    -0.365\\nO      -0.578     5.322     1.096\\nO      -0.178     2.897     2.421\\nO      -3.792     2.917     1.853\\nO      -1.221     0.741     0.421\\nC      -1.368    -0.639     0.111\\nC      -0.600    -1.414     1.162\\nO      -1.178    -1.167     2.429\\nC       0.850    -0.961     1.153\\nC       1.461    -0.920    -0.259\\nO       0.589    -0.334    -1.219\\nC      -0.712    -0.901    -1.238\\nC      -1.456    -0.268    -2.398\\nO      -2.784    -0.744    -2.335\\nO       2.661    -0.211    -0.308\\nC       2.645     1.119     0.175\\nC       3.639     1.256     1.316\\nC       3.660     2.693     1.801\\nC       3.918     3.659     0.657\\nO       3.024     3.421    -0.412\\nC       3.012     2.101    -0.942\\nC       2.005     2.123    -2.076\\nO       0.708     2.489    -1.618\\nO       3.644     4.930     1.136\\nC       4.153     6.001     0.335\\nC       3.568     7.306     0.839\\nC       2.048     7.357     1.017\\nC       1.179     7.316    -0.243\\nC       1.089     5.995    -0.992\\nN       0.626     4.887    -0.115\\nO       4.648     2.779     2.796\\nO       3.262     0.403     2.377\\nO       1.584    -1.818     1.984\\nH      -3.261     1.004     0.334\\nH      -2.474     1.489     2.583\\nH      -1.937     3.896     2.870\\nH      -2.542     4.746     0.869\\nH      -1.642     4.346    -1.103\\nH       0.813     3.717    -0.554\\nH       0.032     3.013    -1.977\\nH      -0.310     1.131    -0.713\\nH      -0.655     5.557     2.032\\nH      -0.258     2.219     3.101\\nH      -4.496     2.302     1.585\\nH      -2.421    -0.933     0.096\\nH      -0.657    -2.485     0.924\\nH      -0.619    -1.591     3.089\\nH       0.841     0.050     1.570\\nH       1.720    -1.940    -0.568\\nH      -0.656    -1.986    -1.405\\nH      -1.424     0.825    -2.301\\nH      -0.956    -0.554    -3.331\\nH      -3.215    -0.603    -3.179\\nH       1.649     1.397     0.537\\nH       4.638     0.979     0.948\\nH       2.665     2.928     2.212\\nH       4.960     3.575     0.306\\nH       3.999     1.837    -1.352\\nH       2.311     2.878    -2.803\\nH       1.978     1.147    -2.563\\nH       0.293     1.700    -1.234\\nH       3.901     5.817    -0.715\\nH       5.246     6.020     0.415\\nH       3.891     8.099     0.156\\nH       4.026     7.532     1.808\\nH       1.819     8.297     1.529\\nH       1.746     6.576     1.725\\nH       1.533     8.067    -0.957\\nH       0.161     7.620     0.029\\nH       0.367     6.061    -1.805\\nH       2.047     5.679    -1.403\\nH      -0.355     5.019     0.201\\nH       1.256     4.797     0.682\\nH       0.664     3.982    -0.624\\nH       4.605     3.650     3.202\\nH       3.847     0.591     3.120\\nH       2.374    -1.327     2.250\\n\",\"xyz\");\n",
       "\tviewer_16363176143464313.setStyle({\"stick\": {}});\n",
       "\tviewer_16363176143464313.zoomTo();\n",
       "viewer_16363176143464313.render();\n",
       "});\n",
       "</script>"
      ]
     },
     "metadata": {},
     "output_type": "display_data"
    }
   ],
   "source": [
    "a131[0].show_xyz()"
   ]
  },
  {
   "cell_type": "code",
   "execution_count": 10,
   "id": "42f95499-ee45-4004-b45a-924b500088e8",
   "metadata": {},
   "outputs": [
    {
     "name": "stdout",
     "output_type": "stream",
     "text": [
      "ring atoms: {'C5': 5, 'C6': 6, 'O6': 7, 'O': 0, 'C1': 1, 'C4': 4, 'C2': 2, 'C3': 3}\n",
      "atoms of the planes: [5, 3, 1, 2]\n",
      "atoms of the planes: [1, 5, 3, 4]\n",
      "atoms of the planes: [3, 1, 5, 0]\n",
      "[35.26, 35.26, 35.26] [324.74, 74.19999999999997, 324.74]\n",
      "43.8462845224968 -289.48\n",
      "atoms of the planes: [4, 2, 0, 1]\n",
      "[11, 40, 12, 13, 18, 51, 14, 15, 52, 17, 19, 56, 53, 16, 39, 54, 20, 57, 58, 21, 55, 83, 59, 22, 23, 27, 60, 24, 38, 61, 26, 28, 64, 25, 37, 62, 82, 29, 65, 66, 30, 63, 81, 67, 31, 32, 68, 69, 33, 70, 71, 34, 72, 73, 35, 74, 75, 36, 76, 77, 78, 79, 80]\n",
      "6.087415331670343 -38.939999999999976\n",
      "atoms of the planes: [0, 4, 2, 3]\n",
      "[9, 42, 49]\n",
      "40.24254326551585 -289.48\n",
      "atoms of the planes: [2, 0, 4, 5]\n",
      "[6, 44, 7, 45, 46, 47]\n"
     ]
    }
   ],
   "source": [
    "glyP.utilities.set_ring_pucker(a131[0], 2, '4C1')"
   ]
  },
  {
   "cell_type": "code",
   "execution_count": 11,
   "id": "c677cc18-9f0f-490a-90b8-a533186ed6ce",
   "metadata": {},
   "outputs": [
    {
     "data": {
      "application/3dmoljs_load.v0": "<div id=\"3dmolviewer_16363177224697533\"  style=\"position: relative; width: 600px; height: 600px\">\n        <p id=\"3dmolwarning_16363177224697533\" style=\"background-color:#ffcccc;color:black\">You appear to be running in JupyterLab (or JavaScript failed to load for some other reason).  You need to install the 3dmol extension: <br>\n        <tt>jupyter labextension install jupyterlab_3dmol</tt></p>\n        </div>\n<script>\n\nvar loadScriptAsync = function(uri){\n  return new Promise((resolve, reject) => {\n    var tag = document.createElement('script');\n    tag.src = uri;\n    tag.async = true;\n    tag.onload = () => {\n      resolve();\n    };\n  var firstScriptTag = document.getElementsByTagName('script')[0];\n  firstScriptTag.parentNode.insertBefore(tag, firstScriptTag);\n});\n};\n\nif(typeof $3Dmolpromise === 'undefined') {\n$3Dmolpromise = null;\n  $3Dmolpromise = loadScriptAsync('https://3dmol.org/build/3Dmol.js');\n}\n\nvar viewer_16363177224697533 = null;\nvar warn = document.getElementById(\"3dmolwarning_16363177224697533\");\nif(warn) {\n    warn.parentNode.removeChild(warn);\n}\n$3Dmolpromise.then(function() {\nviewer_16363177224697533 = $3Dmol.createViewer($(\"#3dmolviewer_16363177224697533\"),{backgroundColor:\"white\"});\nviewer_16363177224697533.zoomTo();\n\tviewer_16363177224697533.addModel(\" 84\\nTri_A154_0000\\nO      -1.537     2.146    -0.541\\nC      -2.328     1.572     0.475\\nC      -1.662     1.824     1.818\\nC      -1.478     3.310     2.061\\nC      -0.633     3.839     0.908\\nC      -1.334     3.544    -0.412\\nC      -2.029     4.530    -1.348\\nO      -1.410     4.613    -2.610\\nO       0.668     3.265     0.974\\nO      -1.938     3.613     0.761\\nO      -2.421     1.311     2.877\\nO      -3.611     1.064     0.340\\nC      -4.732     1.938     0.286\\nC      -5.750     1.413     1.277\\nO      -5.194     1.463     2.577\\nC      -6.104    -0.019     0.915\\nC      -6.434    -0.202    -0.577\\nO      -5.521     0.480    -1.429\\nC      -5.343     1.850    -1.106\\nC      -4.463     2.451    -2.185\\nO      -4.189     3.780    -1.791\\nO      -6.441    -1.540    -0.969\\nC      -5.273    -2.295    -0.708\\nC      -5.622    -3.476     0.182\\nC      -4.381    -4.315     0.420\\nC      -3.727    -4.719    -0.890\\nO      -3.513    -3.591    -1.714\\nC      -4.661    -2.805    -2.016\\nC      -4.169    -1.693    -2.922\\nO      -3.174    -0.899    -2.286\\nO      -2.477    -5.229    -0.574\\nC      -1.849    -5.979    -1.618\\nC      -0.410    -6.251    -1.222\\nC       0.418    -5.049    -0.763\\nC       0.780    -3.989    -1.808\\nC      -0.336    -3.084    -2.307\\nN      -1.017    -2.372    -1.193\\nO      -4.774    -5.430     1.179\\nO      -6.122    -3.007     1.418\\nO      -7.184    -0.421     1.713\\nH      -2.344     2.666     0.609\\nH      -0.668     1.351     1.765\\nH      -0.430     2.978     2.033\\nH      -0.544     4.930     1.003\\nH      -2.047     3.287     0.389\\nH      -2.013     5.531    -0.910\\nH      -3.078     4.227    -1.455\\nH      -1.489     3.750    -3.037\\nH       0.910     3.307     1.911\\nH      -2.031     2.786     0.277\\nH      -2.653     0.384     2.699\\nH      -4.446     2.966     0.522\\nH      -6.649     2.043     1.227\\nH      -5.820     1.040     3.175\\nH      -5.215    -0.608     1.161\\nH      -7.454     0.156    -0.764\\nH      -6.309     2.374    -1.107\\nH      -3.538     1.867    -2.270\\nH      -4.999     2.403    -3.140\\nH      -3.879     4.280    -2.547\\nH      -4.511    -1.686    -0.209\\nH      -6.385    -4.086    -0.324\\nH      -3.655    -3.698     0.974\\nH      -4.345    -5.464    -1.418\\nH      -5.408    -3.401    -2.563\\nH      -3.705    -2.138    -3.805\\nH      -5.011    -1.072    -3.235\\nH      -3.624    -0.261    -1.708\\nH      -1.917    -5.419    -2.556\\nH      -2.389    -6.924    -1.755\\nH       0.080    -6.740    -2.072\\nH      -0.414    -6.985    -0.409\\nH       1.361    -5.442    -0.372\\nH      -0.071    -4.589     0.105\\nH       1.216    -4.476    -2.687\\nH       1.572    -3.353    -1.396\\nH       0.060    -2.311    -2.965\\nH      -1.113    -3.630    -2.841\\nH      -0.390    -1.694    -0.717\\nH      -1.387    -3.053    -0.530\\nH      -1.833    -1.837    -1.550\\nH      -3.990    -5.920     1.443\\nH      -6.231    -3.772     1.993\\nH      -7.156    -1.388     1.740\\n\",\"xyz\");\n\tviewer_16363177224697533.setStyle({\"stick\": {}});\n\tviewer_16363177224697533.zoomTo();\nviewer_16363177224697533.render();\n});\n</script>",
      "text/html": [
       "<div id=\"3dmolviewer_16363177224697533\"  style=\"position: relative; width: 600px; height: 600px\">\n",
       "        <p id=\"3dmolwarning_16363177224697533\" style=\"background-color:#ffcccc;color:black\">You appear to be running in JupyterLab (or JavaScript failed to load for some other reason).  You need to install the 3dmol extension: <br>\n",
       "        <tt>jupyter labextension install jupyterlab_3dmol</tt></p>\n",
       "        </div>\n",
       "<script>\n",
       "\n",
       "var loadScriptAsync = function(uri){\n",
       "  return new Promise((resolve, reject) => {\n",
       "    var tag = document.createElement('script');\n",
       "    tag.src = uri;\n",
       "    tag.async = true;\n",
       "    tag.onload = () => {\n",
       "      resolve();\n",
       "    };\n",
       "  var firstScriptTag = document.getElementsByTagName('script')[0];\n",
       "  firstScriptTag.parentNode.insertBefore(tag, firstScriptTag);\n",
       "});\n",
       "};\n",
       "\n",
       "if(typeof $3Dmolpromise === 'undefined') {\n",
       "$3Dmolpromise = null;\n",
       "  $3Dmolpromise = loadScriptAsync('https://3dmol.org/build/3Dmol.js');\n",
       "}\n",
       "\n",
       "var viewer_16363177224697533 = null;\n",
       "var warn = document.getElementById(\"3dmolwarning_16363177224697533\");\n",
       "if(warn) {\n",
       "    warn.parentNode.removeChild(warn);\n",
       "}\n",
       "$3Dmolpromise.then(function() {\n",
       "viewer_16363177224697533 = $3Dmol.createViewer($(\"#3dmolviewer_16363177224697533\"),{backgroundColor:\"white\"});\n",
       "viewer_16363177224697533.zoomTo();\n",
       "\tviewer_16363177224697533.addModel(\" 84\\nTri_A154_0000\\nO      -1.537     2.146    -0.541\\nC      -2.328     1.572     0.475\\nC      -1.662     1.824     1.818\\nC      -1.478     3.310     2.061\\nC      -0.633     3.839     0.908\\nC      -1.334     3.544    -0.412\\nC      -2.029     4.530    -1.348\\nO      -1.410     4.613    -2.610\\nO       0.668     3.265     0.974\\nO      -1.938     3.613     0.761\\nO      -2.421     1.311     2.877\\nO      -3.611     1.064     0.340\\nC      -4.732     1.938     0.286\\nC      -5.750     1.413     1.277\\nO      -5.194     1.463     2.577\\nC      -6.104    -0.019     0.915\\nC      -6.434    -0.202    -0.577\\nO      -5.521     0.480    -1.429\\nC      -5.343     1.850    -1.106\\nC      -4.463     2.451    -2.185\\nO      -4.189     3.780    -1.791\\nO      -6.441    -1.540    -0.969\\nC      -5.273    -2.295    -0.708\\nC      -5.622    -3.476     0.182\\nC      -4.381    -4.315     0.420\\nC      -3.727    -4.719    -0.890\\nO      -3.513    -3.591    -1.714\\nC      -4.661    -2.805    -2.016\\nC      -4.169    -1.693    -2.922\\nO      -3.174    -0.899    -2.286\\nO      -2.477    -5.229    -0.574\\nC      -1.849    -5.979    -1.618\\nC      -0.410    -6.251    -1.222\\nC       0.418    -5.049    -0.763\\nC       0.780    -3.989    -1.808\\nC      -0.336    -3.084    -2.307\\nN      -1.017    -2.372    -1.193\\nO      -4.774    -5.430     1.179\\nO      -6.122    -3.007     1.418\\nO      -7.184    -0.421     1.713\\nH      -2.344     2.666     0.609\\nH      -0.668     1.351     1.765\\nH      -0.430     2.978     2.033\\nH      -0.544     4.930     1.003\\nH      -2.047     3.287     0.389\\nH      -2.013     5.531    -0.910\\nH      -3.078     4.227    -1.455\\nH      -1.489     3.750    -3.037\\nH       0.910     3.307     1.911\\nH      -2.031     2.786     0.277\\nH      -2.653     0.384     2.699\\nH      -4.446     2.966     0.522\\nH      -6.649     2.043     1.227\\nH      -5.820     1.040     3.175\\nH      -5.215    -0.608     1.161\\nH      -7.454     0.156    -0.764\\nH      -6.309     2.374    -1.107\\nH      -3.538     1.867    -2.270\\nH      -4.999     2.403    -3.140\\nH      -3.879     4.280    -2.547\\nH      -4.511    -1.686    -0.209\\nH      -6.385    -4.086    -0.324\\nH      -3.655    -3.698     0.974\\nH      -4.345    -5.464    -1.418\\nH      -5.408    -3.401    -2.563\\nH      -3.705    -2.138    -3.805\\nH      -5.011    -1.072    -3.235\\nH      -3.624    -0.261    -1.708\\nH      -1.917    -5.419    -2.556\\nH      -2.389    -6.924    -1.755\\nH       0.080    -6.740    -2.072\\nH      -0.414    -6.985    -0.409\\nH       1.361    -5.442    -0.372\\nH      -0.071    -4.589     0.105\\nH       1.216    -4.476    -2.687\\nH       1.572    -3.353    -1.396\\nH       0.060    -2.311    -2.965\\nH      -1.113    -3.630    -2.841\\nH      -0.390    -1.694    -0.717\\nH      -1.387    -3.053    -0.530\\nH      -1.833    -1.837    -1.550\\nH      -3.990    -5.920     1.443\\nH      -6.231    -3.772     1.993\\nH      -7.156    -1.388     1.740\\n\",\"xyz\");\n",
       "\tviewer_16363177224697533.setStyle({\"stick\": {}});\n",
       "\tviewer_16363177224697533.zoomTo();\n",
       "viewer_16363177224697533.render();\n",
       "});\n",
       "</script>"
      ]
     },
     "metadata": {},
     "output_type": "display_data"
    }
   ],
   "source": [
    "a131[0].show_xyz()"
   ]
  },
  {
   "cell_type": "code",
   "execution_count": 10,
   "id": "016afdac-b763-460f-830b-a83855de0acf",
   "metadata": {},
   "outputs": [
    {
     "name": "stdout",
     "output_type": "stream",
     "text": [
      "ring atoms: {'C5': 5, 'C6': 6, 'O6': 7, 'O': 0, 'C1': 1, 'C4': 4, 'C2': 2, 'C3': 3}\n",
      "atoms of the planes: [5, 3, 1, 2]\n",
      "atoms of the planes: [1, 5, 3, 4]\n",
      "atoms of the planes: [3, 1, 5, 0]\n",
      "[35.26, 35.26, 35.26] [324.74, 74.19999999999997, 324.74]\n",
      "[ 9 42]\n",
      "125.34040679822513 -289.48\n",
      "atoms of the planes: [4, 2, 0, 1]\n",
      "[11, 40, 12, 13, 18, 51, 14, 15, 52, 17, 19, 56, 53, 16, 39, 54, 20, 57, 58, 21, 55, 83, 59, 22, 23, 27, 60, 24, 38, 61, 26, 28, 64, 25, 37, 62, 82, 29, 65, 66, 30, 63, 81, 67, 31, 32, 68, 69, 33, 70, 71, 34, 72, 73, 35, 74, 75, 36, 76, 77, 78, 79, 80]\n",
      "169.34411303652286 -38.939999999999976\n",
      "atoms of the planes: [0, 4, 2, 3]\n",
      "[9, 42, 49]\n",
      "135.380428656376 -289.48\n",
      "atoms of the planes: [2, 0, 4, 5]\n",
      "[6, 44, 7, 45, 46, 47]\n"
     ]
    }
   ],
   "source": [
    "glyP.utilities.set_ring_pucker(a131[0], 2, '4C1')"
   ]
  },
  {
   "cell_type": "code",
   "execution_count": 11,
   "id": "92e4c48d-089f-4d28-9393-9796f99760ef",
   "metadata": {},
   "outputs": [
    {
     "data": {
      "application/3dmoljs_load.v0": "<div id=\"3dmolviewer_16363172067548928\"  style=\"position: relative; width: 600px; height: 600px\">\n        <p id=\"3dmolwarning_16363172067548928\" style=\"background-color:#ffcccc;color:black\">You appear to be running in JupyterLab (or JavaScript failed to load for some other reason).  You need to install the 3dmol extension: <br>\n        <tt>jupyter labextension install jupyterlab_3dmol</tt></p>\n        </div>\n<script>\n\nvar loadScriptAsync = function(uri){\n  return new Promise((resolve, reject) => {\n    var tag = document.createElement('script');\n    tag.src = uri;\n    tag.async = true;\n    tag.onload = () => {\n      resolve();\n    };\n  var firstScriptTag = document.getElementsByTagName('script')[0];\n  firstScriptTag.parentNode.insertBefore(tag, firstScriptTag);\n});\n};\n\nif(typeof $3Dmolpromise === 'undefined') {\n$3Dmolpromise = null;\n  $3Dmolpromise = loadScriptAsync('https://3dmol.org/build/3Dmol.js');\n}\n\nvar viewer_16363172067548928 = null;\nvar warn = document.getElementById(\"3dmolwarning_16363172067548928\");\nif(warn) {\n    warn.parentNode.removeChild(warn);\n}\n$3Dmolpromise.then(function() {\nviewer_16363172067548928 = $3Dmol.createViewer($(\"#3dmolviewer_16363172067548928\"),{backgroundColor:\"white\"});\nviewer_16363172067548928.zoomTo();\n\tviewer_16363172067548928.addModel(\" 84\\nTri_A154_0000\\nO      -1.537     2.146    -0.541\\nC      -2.328     1.572     0.475\\nC      -1.662     1.824     1.818\\nC      -1.478     3.310     2.061\\nC      -0.633     3.839     0.908\\nC      -1.334     3.544    -0.412\\nC      -0.001     2.828    -0.621\\nO       0.051     1.575     0.021\\nO       0.668     3.265     0.974\\nO      -0.451     2.986     1.148\\nO      -2.421     1.311     2.877\\nO      -0.959     1.362     0.521\\nC      -0.418     0.071     0.272\\nC       0.548    -0.230     1.399\\nO      -0.165    -0.262     2.620\\nC       1.612     0.854     1.444\\nC       2.229     1.153     0.066\\nO       1.253     1.240    -0.966\\nC       0.376     0.125    -1.026\\nC      -0.495     0.309    -2.254\\nO      -1.444    -0.737    -2.237\\nO       2.954     2.344     0.046\\nC       2.281     3.517     0.461\\nC       3.011     4.129     1.645\\nC       2.320     5.414     2.059\\nC       2.173     6.365     0.884\\nO       1.573     5.714    -0.218\\nC       2.221     4.535    -0.682\\nC       1.404     4.058    -1.867\\nO       0.058     3.776    -1.498\\nO       1.301     7.365     1.284\\nC       1.301     8.534     0.459\\nC       0.137     9.417     0.867\\nC      -1.236     8.748     0.961\\nC      -1.894     8.277    -0.339\\nC      -1.299     7.057    -1.026\\nN      -1.247     5.877    -0.121\\nO       3.079     5.975     3.099\\nO       3.007     3.218     2.726\\nO       2.602     0.461     2.354\\nH      -2.872     0.628     0.313\\nH      -0.668     1.351     1.765\\nH      -1.065     3.817     2.945\\nH      -0.544     4.930     1.003\\nH      -1.423     4.315    -1.195\\nH       0.813     3.436    -0.220\\nH       0.166     2.712    -1.699\\nH      -0.615     1.006    -0.383\\nH       0.910     3.307     1.911\\nH       0.071     2.272     1.528\\nH      -2.653     0.384     2.699\\nH      -1.205    -0.686     0.216\\nH       1.019    -1.205     1.211\\nH       0.480    -0.359     3.329\\nH       1.099     1.749     1.810\\nH       2.957     0.371    -0.178\\nH       0.948    -0.808    -1.136\\nH      -0.987     1.289    -2.209\\nH       0.144     0.277    -3.143\\nH      -1.830    -0.831    -3.109\\nH       1.249     3.298     0.756\\nH       4.047     4.350     1.344\\nH       1.306     5.158     2.404\\nH       3.154     6.778     0.593\\nH       3.241     4.761    -1.026\\nH       1.369     4.854    -2.614\\nH       1.872     3.175    -2.307\\nH       0.037     2.891    -1.098\\nH       1.239     8.234    -0.592\\nH       2.248     9.069     0.596\\nH       0.096    10.256     0.163\\nH       0.366     9.850     1.846\\nH      -1.916     9.477     1.413\\nH      -1.184     7.929     1.690\\nH      -1.885     9.093    -1.070\\nH      -2.951     8.069    -0.137\\nH      -1.909     6.759    -1.878\\nH      -0.279     7.224    -1.370\\nH      -2.193     5.536     0.136\\nH      -0.705     6.111     0.711\\nH      -0.752     5.089    -0.582\\nH       2.604     6.729     3.459\\nH       3.381     3.674     3.488\\nH       3.048     1.272     2.637\\n\",\"xyz\");\n\tviewer_16363172067548928.setStyle({\"stick\": {}});\n\tviewer_16363172067548928.zoomTo();\nviewer_16363172067548928.render();\n});\n</script>",
      "text/html": [
       "<div id=\"3dmolviewer_16363172067548928\"  style=\"position: relative; width: 600px; height: 600px\">\n",
       "        <p id=\"3dmolwarning_16363172067548928\" style=\"background-color:#ffcccc;color:black\">You appear to be running in JupyterLab (or JavaScript failed to load for some other reason).  You need to install the 3dmol extension: <br>\n",
       "        <tt>jupyter labextension install jupyterlab_3dmol</tt></p>\n",
       "        </div>\n",
       "<script>\n",
       "\n",
       "var loadScriptAsync = function(uri){\n",
       "  return new Promise((resolve, reject) => {\n",
       "    var tag = document.createElement('script');\n",
       "    tag.src = uri;\n",
       "    tag.async = true;\n",
       "    tag.onload = () => {\n",
       "      resolve();\n",
       "    };\n",
       "  var firstScriptTag = document.getElementsByTagName('script')[0];\n",
       "  firstScriptTag.parentNode.insertBefore(tag, firstScriptTag);\n",
       "});\n",
       "};\n",
       "\n",
       "if(typeof $3Dmolpromise === 'undefined') {\n",
       "$3Dmolpromise = null;\n",
       "  $3Dmolpromise = loadScriptAsync('https://3dmol.org/build/3Dmol.js');\n",
       "}\n",
       "\n",
       "var viewer_16363172067548928 = null;\n",
       "var warn = document.getElementById(\"3dmolwarning_16363172067548928\");\n",
       "if(warn) {\n",
       "    warn.parentNode.removeChild(warn);\n",
       "}\n",
       "$3Dmolpromise.then(function() {\n",
       "viewer_16363172067548928 = $3Dmol.createViewer($(\"#3dmolviewer_16363172067548928\"),{backgroundColor:\"white\"});\n",
       "viewer_16363172067548928.zoomTo();\n",
       "\tviewer_16363172067548928.addModel(\" 84\\nTri_A154_0000\\nO      -1.537     2.146    -0.541\\nC      -2.328     1.572     0.475\\nC      -1.662     1.824     1.818\\nC      -1.478     3.310     2.061\\nC      -0.633     3.839     0.908\\nC      -1.334     3.544    -0.412\\nC      -0.001     2.828    -0.621\\nO       0.051     1.575     0.021\\nO       0.668     3.265     0.974\\nO      -0.451     2.986     1.148\\nO      -2.421     1.311     2.877\\nO      -0.959     1.362     0.521\\nC      -0.418     0.071     0.272\\nC       0.548    -0.230     1.399\\nO      -0.165    -0.262     2.620\\nC       1.612     0.854     1.444\\nC       2.229     1.153     0.066\\nO       1.253     1.240    -0.966\\nC       0.376     0.125    -1.026\\nC      -0.495     0.309    -2.254\\nO      -1.444    -0.737    -2.237\\nO       2.954     2.344     0.046\\nC       2.281     3.517     0.461\\nC       3.011     4.129     1.645\\nC       2.320     5.414     2.059\\nC       2.173     6.365     0.884\\nO       1.573     5.714    -0.218\\nC       2.221     4.535    -0.682\\nC       1.404     4.058    -1.867\\nO       0.058     3.776    -1.498\\nO       1.301     7.365     1.284\\nC       1.301     8.534     0.459\\nC       0.137     9.417     0.867\\nC      -1.236     8.748     0.961\\nC      -1.894     8.277    -0.339\\nC      -1.299     7.057    -1.026\\nN      -1.247     5.877    -0.121\\nO       3.079     5.975     3.099\\nO       3.007     3.218     2.726\\nO       2.602     0.461     2.354\\nH      -2.872     0.628     0.313\\nH      -0.668     1.351     1.765\\nH      -1.065     3.817     2.945\\nH      -0.544     4.930     1.003\\nH      -1.423     4.315    -1.195\\nH       0.813     3.436    -0.220\\nH       0.166     2.712    -1.699\\nH      -0.615     1.006    -0.383\\nH       0.910     3.307     1.911\\nH       0.071     2.272     1.528\\nH      -2.653     0.384     2.699\\nH      -1.205    -0.686     0.216\\nH       1.019    -1.205     1.211\\nH       0.480    -0.359     3.329\\nH       1.099     1.749     1.810\\nH       2.957     0.371    -0.178\\nH       0.948    -0.808    -1.136\\nH      -0.987     1.289    -2.209\\nH       0.144     0.277    -3.143\\nH      -1.830    -0.831    -3.109\\nH       1.249     3.298     0.756\\nH       4.047     4.350     1.344\\nH       1.306     5.158     2.404\\nH       3.154     6.778     0.593\\nH       3.241     4.761    -1.026\\nH       1.369     4.854    -2.614\\nH       1.872     3.175    -2.307\\nH       0.037     2.891    -1.098\\nH       1.239     8.234    -0.592\\nH       2.248     9.069     0.596\\nH       0.096    10.256     0.163\\nH       0.366     9.850     1.846\\nH      -1.916     9.477     1.413\\nH      -1.184     7.929     1.690\\nH      -1.885     9.093    -1.070\\nH      -2.951     8.069    -0.137\\nH      -1.909     6.759    -1.878\\nH      -0.279     7.224    -1.370\\nH      -2.193     5.536     0.136\\nH      -0.705     6.111     0.711\\nH      -0.752     5.089    -0.582\\nH       2.604     6.729     3.459\\nH       3.381     3.674     3.488\\nH       3.048     1.272     2.637\\n\",\"xyz\");\n",
       "\tviewer_16363172067548928.setStyle({\"stick\": {}});\n",
       "\tviewer_16363172067548928.zoomTo();\n",
       "viewer_16363172067548928.render();\n",
       "});\n",
       "</script>"
      ]
     },
     "metadata": {},
     "output_type": "display_data"
    }
   ],
   "source": [
    "a131[0].show_xyz()"
   ]
  },
  {
   "cell_type": "code",
   "execution_count": 14,
   "id": "139ba441-e164-475f-a8f1-4659d1f6c368",
   "metadata": {},
   "outputs": [
    {
     "name": "stdout",
     "output_type": "stream",
     "text": [
      "atoms of the planes: -162.46004299739\n"
     ]
    },
    {
     "ename": "IndexError",
     "evalue": "invalid index to scalar variable.",
     "output_type": "error",
     "traceback": [
      "\u001b[0;31m---------------------------------------------------------------------------\u001b[0m",
      "\u001b[0;31mIndexError\u001b[0m                                Traceback (most recent call last)",
      "\u001b[0;32m<ipython-input-14-de32e01ca40e>\u001b[0m in \u001b[0;36m<module>\u001b[0;34m\u001b[0m\n\u001b[0;32m----> 1\u001b[0;31m \u001b[0mglyP\u001b[0m\u001b[0;34m.\u001b[0m\u001b[0mga_operations\u001b[0m\u001b[0;34m.\u001b[0m\u001b[0mmodify_c6\u001b[0m\u001b[0;34m(\u001b[0m\u001b[0ma131\u001b[0m\u001b[0;34m[\u001b[0m\u001b[0;36m2\u001b[0m\u001b[0;34m]\u001b[0m\u001b[0;34m,\u001b[0m \u001b[0;36m2\u001b[0m\u001b[0;34m)\u001b[0m\u001b[0;34m\u001b[0m\u001b[0;34m\u001b[0m\u001b[0m\n\u001b[0m",
      "\u001b[0;32m~/Desktop/Log/Sugars/glyPpy3/glyPpy3/glyP/ga_operations.py\u001b[0m in \u001b[0;36mmodify_c6\u001b[0;34m(conf, ring)\u001b[0m\n\u001b[1;32m     44\u001b[0m         \u001b[0matoms\u001b[0m \u001b[0;34m=\u001b[0m \u001b[0mnode\u001b[0m\u001b[0;34m[\u001b[0m\u001b[0;34m'c6_atoms'\u001b[0m\u001b[0;34m]\u001b[0m\u001b[0;34m\u001b[0m\u001b[0;34m\u001b[0m\u001b[0m\n\u001b[1;32m     45\u001b[0m         \u001b[0mdih\u001b[0m \u001b[0;34m=\u001b[0m \u001b[0;34m(\u001b[0m\u001b[0;34m(\u001b[0m\u001b[0mutilities\u001b[0m\u001b[0;34m.\u001b[0m\u001b[0mdraw_random_int\u001b[0m\u001b[0;34m(\u001b[0m\u001b[0mtop\u001b[0m\u001b[0;34m=\u001b[0m\u001b[0;36m3\u001b[0m\u001b[0;34m)\u001b[0m\u001b[0;34m-\u001b[0m\u001b[0;36m1\u001b[0m\u001b[0;34m)\u001b[0m\u001b[0;34m*\u001b[0m\u001b[0;36m120.0\u001b[0m\u001b[0;34m)\u001b[0m\u001b[0;34m+\u001b[0m\u001b[0;36m60.0\u001b[0m\u001b[0;34m\u001b[0m\u001b[0;34m\u001b[0m\u001b[0m\n\u001b[0;32m---> 46\u001b[0;31m         \u001b[0mconf\u001b[0m\u001b[0;34m.\u001b[0m\u001b[0mset_c6\u001b[0m\u001b[0;34m(\u001b[0m\u001b[0mring\u001b[0m\u001b[0;34m,\u001b[0m \u001b[0mdih\u001b[0m\u001b[0;34m)\u001b[0m\u001b[0;34m\u001b[0m\u001b[0;34m\u001b[0m\u001b[0m\n\u001b[0m\u001b[1;32m     47\u001b[0m \u001b[0;34m\u001b[0m\u001b[0m\n\u001b[1;32m     48\u001b[0m \u001b[0;32mdef\u001b[0m \u001b[0mmodify_ring\u001b[0m\u001b[0;34m(\u001b[0m\u001b[0mconf\u001b[0m\u001b[0;34m,\u001b[0m \u001b[0mring\u001b[0m\u001b[0;34m,\u001b[0m \u001b[0mphi\u001b[0m\u001b[0;34m,\u001b[0m \u001b[0mpsi\u001b[0m\u001b[0;34m)\u001b[0m\u001b[0;34m:\u001b[0m\u001b[0;34m\u001b[0m\u001b[0;34m\u001b[0m\u001b[0m\n",
      "\u001b[0;32m~/Desktop/Log/Sugars/glyPpy3/glyPpy3/glyP/conformer.py\u001b[0m in \u001b[0;36mset_c6\u001b[0;34m(self, ring, dih)\u001b[0m\n\u001b[1;32m    496\u001b[0m         \u001b[0;31m#if hasattr(self.graph.nodes[ring], 'c6_atoms'):\u001b[0m\u001b[0;34m\u001b[0m\u001b[0;34m\u001b[0m\u001b[0m\n\u001b[1;32m    497\u001b[0m         \u001b[0matoms\u001b[0m \u001b[0;34m=\u001b[0m \u001b[0mself\u001b[0m\u001b[0;34m.\u001b[0m\u001b[0mgraph\u001b[0m\u001b[0;34m.\u001b[0m\u001b[0mnodes\u001b[0m\u001b[0;34m[\u001b[0m\u001b[0mring\u001b[0m\u001b[0;34m]\u001b[0m\u001b[0;34m[\u001b[0m\u001b[0;34m'c6_dih'\u001b[0m\u001b[0;34m]\u001b[0m\u001b[0;34m\u001b[0m\u001b[0;34m\u001b[0m\u001b[0m\n\u001b[0;32m--> 498\u001b[0;31m         \u001b[0mset_dihedral\u001b[0m\u001b[0;34m(\u001b[0m\u001b[0mself\u001b[0m\u001b[0;34m,\u001b[0m \u001b[0matoms\u001b[0m\u001b[0;34m,\u001b[0m \u001b[0mdih\u001b[0m\u001b[0;34m)\u001b[0m\u001b[0;34m\u001b[0m\u001b[0;34m\u001b[0m\u001b[0m\n\u001b[0m\u001b[1;32m    499\u001b[0m         \u001b[0mself\u001b[0m\u001b[0;34m.\u001b[0m\u001b[0mmeasure_c6\u001b[0m\u001b[0;34m(\u001b[0m\u001b[0;34m)\u001b[0m\u001b[0;34m\u001b[0m\u001b[0;34m\u001b[0m\u001b[0m\n\u001b[1;32m    500\u001b[0m \u001b[0;34m\u001b[0m\u001b[0m\n",
      "\u001b[0;32m~/Desktop/Log/Sugars/glyPpy3/glyPpy3/glyP/utilities.py\u001b[0m in \u001b[0;36mset_dihedral\u001b[0;34m(conf, list_of_atoms, new_dih)\u001b[0m\n\u001b[1;32m    257\u001b[0m   \"\"\"\n\u001b[1;32m    258\u001b[0m   \u001b[0mprint\u001b[0m\u001b[0;34m(\u001b[0m\u001b[0;34m\"atoms of the planes:\"\u001b[0m\u001b[0;34m,\u001b[0m \u001b[0mlist_of_atoms\u001b[0m\u001b[0;34m)\u001b[0m\u001b[0;34m\u001b[0m\u001b[0;34m\u001b[0m\u001b[0m\n\u001b[0;32m--> 259\u001b[0;31m   \u001b[0mat1\u001b[0m \u001b[0;34m=\u001b[0m \u001b[0mlist_of_atoms\u001b[0m\u001b[0;34m[\u001b[0m\u001b[0;36m0\u001b[0m\u001b[0;34m]\u001b[0m\u001b[0;34m\u001b[0m\u001b[0;34m\u001b[0m\u001b[0m\n\u001b[0m\u001b[1;32m    260\u001b[0m   \u001b[0mat2\u001b[0m \u001b[0;34m=\u001b[0m \u001b[0mlist_of_atoms\u001b[0m\u001b[0;34m[\u001b[0m\u001b[0;36m1\u001b[0m\u001b[0;34m]\u001b[0m \u001b[0;31m#midpoint\u001b[0m\u001b[0;34m\u001b[0m\u001b[0;34m\u001b[0m\u001b[0m\n\u001b[1;32m    261\u001b[0m   \u001b[0mat3\u001b[0m \u001b[0;34m=\u001b[0m \u001b[0mlist_of_atoms\u001b[0m\u001b[0;34m[\u001b[0m\u001b[0;36m2\u001b[0m\u001b[0;34m]\u001b[0m\u001b[0;34m\u001b[0m\u001b[0;34m\u001b[0m\u001b[0m\n",
      "\u001b[0;31mIndexError\u001b[0m: invalid index to scalar variable."
     ]
    }
   ],
   "source": [
    "glyP.ga_operations.modify_c6(a131[2], 2)"
   ]
  },
  {
   "cell_type": "code",
   "execution_count": 24,
   "id": "297fa706-36da-4ce2-b2cb-6656c28b3398",
   "metadata": {},
   "outputs": [
    {
     "data": {
      "application/3dmoljs_load.v0": "<div id=\"3dmolviewer_163613941652764\"  style=\"position: relative; width: 600px; height: 600px\">\n        <p id=\"3dmolwarning_163613941652764\" style=\"background-color:#ffcccc;color:black\">You appear to be running in JupyterLab (or JavaScript failed to load for some other reason).  You need to install the 3dmol extension: <br>\n        <tt>jupyter labextension install jupyterlab_3dmol</tt></p>\n        </div>\n<script>\n\nvar loadScriptAsync = function(uri){\n  return new Promise((resolve, reject) => {\n    var tag = document.createElement('script');\n    tag.src = uri;\n    tag.async = true;\n    tag.onload = () => {\n      resolve();\n    };\n  var firstScriptTag = document.getElementsByTagName('script')[0];\n  firstScriptTag.parentNode.insertBefore(tag, firstScriptTag);\n});\n};\n\nif(typeof $3Dmolpromise === 'undefined') {\n$3Dmolpromise = null;\n  $3Dmolpromise = loadScriptAsync('https://3dmol.org/build/3Dmol.js');\n}\n\nvar viewer_163613941652764 = null;\nvar warn = document.getElementById(\"3dmolwarning_163613941652764\");\nif(warn) {\n    warn.parentNode.removeChild(warn);\n}\n$3Dmolpromise.then(function() {\nviewer_163613941652764 = $3Dmol.createViewer($(\"#3dmolviewer_163613941652764\"),{backgroundColor:\"white\"});\nviewer_163613941652764.zoomTo();\n\tviewer_163613941652764.addModel(\" 84\\nTri_A131_ga26\\nO       1.985     2.341     1.597\\nC       2.030     0.964     1.827\\nC       0.808     0.518     2.632\\nC      -0.456     0.871     1.865\\nC      -0.469     2.362     1.559\\nC       0.834     2.792     0.894\\nH       2.950     0.792     2.394\\nH       0.812     1.087     3.568\\nH      -0.482     0.299     0.933\\nH      -1.291     2.574     0.867\\nH       0.831     2.387    -0.126\\nO      -0.713     3.004     2.799\\nO      -1.626     0.525     2.588\\nO       0.827    -0.879     2.892\\nO       2.051     0.217     0.636\\nC       0.968     4.306     0.852\\nH       1.313     4.645     1.836\\nH       1.719     4.588     0.106\\nO      -0.310     4.841     0.541\\nH      -0.223     5.780     0.363\\nH      -0.981     3.909     2.607\\nH      -1.805     1.250     3.201\\nH       1.321    -1.028     3.702\\nO       2.324    -1.858    -1.258\\nC       2.446    -0.823    -2.207\\nC       3.003     0.474    -1.565\\nC       3.280     0.303    -0.077\\nC       4.120    -0.941     0.169\\nC       3.514    -2.176    -0.557\\nH       3.140    -1.130    -3.002\\nH       2.276     1.278    -1.698\\nH       3.834     1.186     0.256\\nH       5.112    -0.739    -0.247\\nH       4.257    -2.566    -1.270\\nO       4.207    -1.120     1.580\\nO       4.251     0.816    -2.144\\nO       1.217    -0.683    -2.840\\nC       3.126    -3.303     0.386\\nH       2.840    -4.175    -0.207\\nH       3.980    -3.584     1.012\\nO       1.999    -2.972     1.172\\nH       2.162    -2.137     1.634\\nH       5.081    -1.437     1.809\\nH       4.097     1.221    -3.000\\nO      -2.113    -0.920    -1.369\\nC      -2.747     0.180    -1.989\\nC      -1.795     1.360    -2.000\\nC      -0.475     0.998    -2.656\\nC       0.112    -0.267    -2.048\\nC      -0.960    -1.365    -2.070\\nH      -3.040    -0.096    -3.019\\nH      -1.605     1.616    -0.948\\nH      -0.655     0.804    -3.725\\nH      -1.212    -1.573    -3.123\\nH       0.423    -0.092    -1.014\\nO       0.436     2.068    -2.509\\nO      -2.310     2.465    -2.703\\nO      -3.840     0.542    -1.231\\nC      -0.545    -2.672    -1.433\\nH      -1.351    -3.397    -1.592\\nH       0.359    -3.039    -1.921\\nO      -0.339    -2.529    -0.042\\nH       0.602    -2.643     0.217\\nH      -0.007     2.860    -2.833\\nH      -3.119     2.749    -2.268\\nC      -4.930    -0.383    -1.254\\nH      -5.683    -0.024    -1.964\\nH      -4.572    -1.359    -1.600\\nC      -5.515    -0.485     0.140\\nH      -6.384    -1.154     0.097\\nH      -5.895     0.500     0.430\\nC      -4.523    -0.968     1.196\\nH      -3.672    -0.279     1.204\\nH      -4.998    -0.892     2.182\\nC      -4.046    -2.402     0.982\\nH      -4.908    -3.076     0.933\\nH      -3.521    -2.486     0.024\\nC      -3.137    -2.919     2.083\\nH      -2.898    -3.973     1.927\\nH      -3.606    -2.818     3.066\\nN      -1.847    -2.180     2.114\\nH      -1.207    -2.545     2.818\\nH      -1.959    -1.174     2.338\\nH      -1.332    -2.262     1.192\\n\",\"xyz\");\n\tviewer_163613941652764.setStyle({\"stick\": {}});\n\tviewer_163613941652764.zoomTo();\nviewer_163613941652764.render();\n});\n</script>",
      "text/html": [
       "<div id=\"3dmolviewer_163613941652764\"  style=\"position: relative; width: 600px; height: 600px\">\n",
       "        <p id=\"3dmolwarning_163613941652764\" style=\"background-color:#ffcccc;color:black\">You appear to be running in JupyterLab (or JavaScript failed to load for some other reason).  You need to install the 3dmol extension: <br>\n",
       "        <tt>jupyter labextension install jupyterlab_3dmol</tt></p>\n",
       "        </div>\n",
       "<script>\n",
       "\n",
       "var loadScriptAsync = function(uri){\n",
       "  return new Promise((resolve, reject) => {\n",
       "    var tag = document.createElement('script');\n",
       "    tag.src = uri;\n",
       "    tag.async = true;\n",
       "    tag.onload = () => {\n",
       "      resolve();\n",
       "    };\n",
       "  var firstScriptTag = document.getElementsByTagName('script')[0];\n",
       "  firstScriptTag.parentNode.insertBefore(tag, firstScriptTag);\n",
       "});\n",
       "};\n",
       "\n",
       "if(typeof $3Dmolpromise === 'undefined') {\n",
       "$3Dmolpromise = null;\n",
       "  $3Dmolpromise = loadScriptAsync('https://3dmol.org/build/3Dmol.js');\n",
       "}\n",
       "\n",
       "var viewer_163613941652764 = null;\n",
       "var warn = document.getElementById(\"3dmolwarning_163613941652764\");\n",
       "if(warn) {\n",
       "    warn.parentNode.removeChild(warn);\n",
       "}\n",
       "$3Dmolpromise.then(function() {\n",
       "viewer_163613941652764 = $3Dmol.createViewer($(\"#3dmolviewer_163613941652764\"),{backgroundColor:\"white\"});\n",
       "viewer_163613941652764.zoomTo();\n",
       "\tviewer_163613941652764.addModel(\" 84\\nTri_A131_ga26\\nO       1.985     2.341     1.597\\nC       2.030     0.964     1.827\\nC       0.808     0.518     2.632\\nC      -0.456     0.871     1.865\\nC      -0.469     2.362     1.559\\nC       0.834     2.792     0.894\\nH       2.950     0.792     2.394\\nH       0.812     1.087     3.568\\nH      -0.482     0.299     0.933\\nH      -1.291     2.574     0.867\\nH       0.831     2.387    -0.126\\nO      -0.713     3.004     2.799\\nO      -1.626     0.525     2.588\\nO       0.827    -0.879     2.892\\nO       2.051     0.217     0.636\\nC       0.968     4.306     0.852\\nH       1.313     4.645     1.836\\nH       1.719     4.588     0.106\\nO      -0.310     4.841     0.541\\nH      -0.223     5.780     0.363\\nH      -0.981     3.909     2.607\\nH      -1.805     1.250     3.201\\nH       1.321    -1.028     3.702\\nO       2.324    -1.858    -1.258\\nC       2.446    -0.823    -2.207\\nC       3.003     0.474    -1.565\\nC       3.280     0.303    -0.077\\nC       4.120    -0.941     0.169\\nC       3.514    -2.176    -0.557\\nH       3.140    -1.130    -3.002\\nH       2.276     1.278    -1.698\\nH       3.834     1.186     0.256\\nH       5.112    -0.739    -0.247\\nH       4.257    -2.566    -1.270\\nO       4.207    -1.120     1.580\\nO       4.251     0.816    -2.144\\nO       1.217    -0.683    -2.840\\nC       3.126    -3.303     0.386\\nH       2.840    -4.175    -0.207\\nH       3.980    -3.584     1.012\\nO       1.999    -2.972     1.172\\nH       2.162    -2.137     1.634\\nH       5.081    -1.437     1.809\\nH       4.097     1.221    -3.000\\nO      -2.113    -0.920    -1.369\\nC      -2.747     0.180    -1.989\\nC      -1.795     1.360    -2.000\\nC      -0.475     0.998    -2.656\\nC       0.112    -0.267    -2.048\\nC      -0.960    -1.365    -2.070\\nH      -3.040    -0.096    -3.019\\nH      -1.605     1.616    -0.948\\nH      -0.655     0.804    -3.725\\nH      -1.212    -1.573    -3.123\\nH       0.423    -0.092    -1.014\\nO       0.436     2.068    -2.509\\nO      -2.310     2.465    -2.703\\nO      -3.840     0.542    -1.231\\nC      -0.545    -2.672    -1.433\\nH      -1.351    -3.397    -1.592\\nH       0.359    -3.039    -1.921\\nO      -0.339    -2.529    -0.042\\nH       0.602    -2.643     0.217\\nH      -0.007     2.860    -2.833\\nH      -3.119     2.749    -2.268\\nC      -4.930    -0.383    -1.254\\nH      -5.683    -0.024    -1.964\\nH      -4.572    -1.359    -1.600\\nC      -5.515    -0.485     0.140\\nH      -6.384    -1.154     0.097\\nH      -5.895     0.500     0.430\\nC      -4.523    -0.968     1.196\\nH      -3.672    -0.279     1.204\\nH      -4.998    -0.892     2.182\\nC      -4.046    -2.402     0.982\\nH      -4.908    -3.076     0.933\\nH      -3.521    -2.486     0.024\\nC      -3.137    -2.919     2.083\\nH      -2.898    -3.973     1.927\\nH      -3.606    -2.818     3.066\\nN      -1.847    -2.180     2.114\\nH      -1.207    -2.545     2.818\\nH      -1.959    -1.174     2.338\\nH      -1.332    -2.262     1.192\\n\",\"xyz\");\n",
       "\tviewer_163613941652764.setStyle({\"stick\": {}});\n",
       "\tviewer_163613941652764.zoomTo();\n",
       "viewer_163613941652764.render();\n",
       "});\n",
       "</script>"
      ]
     },
     "metadata": {},
     "output_type": "display_data"
    }
   ],
   "source": [
    "a131[2].show_xyz()"
   ]
  },
  {
   "cell_type": "code",
   "execution_count": null,
   "id": "03311f55-941d-4302-9738-bfdf3bc05647",
   "metadata": {},
   "outputs": [],
   "source": []
  }
 ],
 "metadata": {
  "kernelspec": {
   "display_name": "Python 3",
   "language": "python",
   "name": "python3"
  },
  "language_info": {
   "codemirror_mode": {
    "name": "ipython",
    "version": 3
   },
   "file_extension": ".py",
   "mimetype": "text/x-python",
   "name": "python",
   "nbconvert_exporter": "python",
   "pygments_lexer": "ipython3",
   "version": "3.9.7"
  }
 },
 "nbformat": 4,
 "nbformat_minor": 5
}
