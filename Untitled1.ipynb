{
 "cells": [
  {
   "cell_type": "code",
   "execution_count": 1,
   "id": "76a325eb",
   "metadata": {},
   "outputs": [],
   "source": [
    "import glyP"
   ]
  },
  {
   "cell_type": "code",
   "execution_count": 2,
   "id": "9d298a57",
   "metadata": {},
   "outputs": [
    {
     "name": "stdout",
     "output_type": "stream",
     "text": [
      "tst        directory already exists, load existing data\n",
      "Loading tst                           \n"
     ]
    }
   ],
   "source": [
    "tst = glyP.Space('tst')"
   ]
  },
  {
   "cell_type": "code",
   "execution_count": 3,
   "id": "ded05365",
   "metadata": {},
   "outputs": [
    {
     "name": "stdout",
     "output_type": "stream",
     "text": [
      "Loading Tri_tst/                      \n"
     ]
    }
   ],
   "source": [
    "tst.load_dir('Tri_tst/')"
   ]
  },
  {
   "cell_type": "code",
   "execution_count": 4,
   "id": "c3d2e9d4",
   "metadata": {},
   "outputs": [],
   "source": [
    "tst.calculate_ccs()"
   ]
  },
  {
   "cell_type": "code",
   "execution_count": 5,
   "id": "bb0db5b6",
   "metadata": {},
   "outputs": [
    {
     "data": {
      "text/plain": [
       "144.7731409641676"
      ]
     },
     "execution_count": 5,
     "metadata": {},
     "output_type": "execute_result"
    }
   ],
   "source": [
    "tst[0].ccs"
   ]
  },
  {
   "cell_type": "code",
   "execution_count": null,
   "id": "a54d1a4c",
   "metadata": {},
   "outputs": [],
   "source": []
  }
 ],
 "metadata": {
  "kernelspec": {
   "display_name": "Python 3",
   "language": "python",
   "name": "python3"
  },
  "language_info": {
   "codemirror_mode": {
    "name": "ipython",
    "version": 3
   },
   "file_extension": ".py",
   "mimetype": "text/x-python",
   "name": "python",
   "nbconvert_exporter": "python",
   "pygments_lexer": "ipython3",
   "version": "3.9.4"
  }
 },
 "nbformat": 4,
 "nbformat_minor": 5
}
